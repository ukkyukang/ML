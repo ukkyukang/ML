{
  "cells": [
    {
      "cell_type": "markdown",
      "metadata": {
        "id": "Tce3stUlHN0L"
      },
      "source": [
        "##### Target URLs"
      ]
    },
    {
      "cell_type": "code",
      "source": [
        "# !pip install -U -q \"google-genai\""
      ],
      "metadata": {
        "id": "ueK2u-VRrQ0H"
      },
      "execution_count": 1,
      "outputs": []
    },
    {
      "cell_type": "code",
      "source": [
        "# target urls\n",
        "\n",
        "text_urls_old = \"\"\"\n",
        "https://www.foxnews.com/politics/trump-swearing-in-move-indoors-due-cold-weather-source-tells-fox-news\n",
        "https://www.foxnews.com/politics/trump-administration-planning-illegal-immigrant-arrests-across-us-day-one\n",
        "https://www.foxnews.com/politics/hegseth-backed-louisiana-sen-bill-cassidy-lead-pentagon-trump\n",
        "https://www.foxbusiness.com/technology/tiktok-says-go-dark-sunday-without-definitive-assurance-biden-admin-wont-enforce-ban\n",
        "https://www.foxnews.com/world/what-know-about-hostages-cease-fire-deal-between-israel-hamas-set-begin-sunday\n",
        "\n",
        "https://www.breitbart.com/politics/2025/01/17/biden-falsely-declares-states-ratified-equal-rights-amendment-era-constitution/\n",
        "https://www.breitbart.com/economy/2025/01/17/breitbart-business-digest-a-farewell-to-bidenomics-the-era-of-economic-mismanagement-ends/\n",
        "https://www.breitbart.com/tech/2025/01/17/ridiculous-capitol-one-blasted-technical-issue-affecting-customers-access-their-money/\n",
        "https://www.breitbart.com/economy/2025/01/17/kristi-noem-slams-democrats-on-mismanagement-of-migrants-children/\n",
        "\"\"\"\n",
        "\n",
        "\n",
        "new_urls = \"\"\"\n",
        "https://www.foxnews.com/politics/porn-case-supreme-court-week-about-protecting-children-says-republican-ag\n",
        "https://www.foxnews.com/politics/fox-news-politics-newsletter-1-15-draft\n",
        "https://www.foxnews.com/politics/next-ohio-senator-fiscal-conservative-aims-get-government-out-peoples-lives\n",
        "https://www.foxnews.com/politics/biden-appointed-more-federal-judges-than-trump-did-his-first-term-new-research-shows\n",
        "https://www.foxnews.com/politics/fox-news-politics-newsletter-times-up-tiktok\n",
        "https://www.foxnews.com/politics/biden-wraps-up-half-century-political-career-failure-turn-page-trump-weighs-on-president\n",
        "https://www.foxnews.com/politics/greatest-inauguration-day-moments-us-history\n",
        "https://www.foxnews.com/politics/why-zuckerberg-killed-fact-checking-he-keeps-cozying-up-trump\n",
        "https://www.foxnews.com/politics/messy-backstage-jockeying-trump-transition-could-shape-hill-strategy-four-years-jan-6\n",
        "https://www.foxnews.com/politics/trump-swearing-in-move-indoors-due-cold-weather-source-tells-fox-news\n",
        "https://www.foxnews.com/politics/highlights-from-president-elect-donald-trumps-first-inauguration-day-what-expect-from-monday\n",
        "https://www.foxnews.com/politics/fox-news-politics-newsletter-sparring-bondi\n",
        "https://www.foxnews.com/politics/doge-caucus-plans-biggest-impact-eyeing-key-tools-expedite-cutting-waste\n",
        "https://www.foxnews.com/politics/hitchhikers-guide-snowball-fights-moving-inauguration-inside\n",
        "\"\"\"\n",
        "\n",
        "def remove_duplicates_and_merge(list1, list2):\n",
        "  \"\"\"두 개의 리스트를 비교하여 중복된 요소를 제거하고 새로운 리스트를 반환합니다.\n",
        "\n",
        "  Args:\n",
        "    list1: 첫 번째 리스트\n",
        "    list2: 두 번째 리스트\n",
        "\n",
        "  Returns:\n",
        "    중복이 제거된 요소들로 구성된 새로운 리스트\n",
        "  \"\"\"\n",
        "  combined_list = list1 + list2\n",
        "  unique_list = []\n",
        "  seen = set()\n",
        "\n",
        "  for item in combined_list:\n",
        "    if item not in seen:\n",
        "      unique_list.append(item)\n",
        "      seen.add(item)\n",
        "    else:\n",
        "      print(f\"duplicate item : {item}\")\n",
        "\n",
        "  # remove null or empty element in the urls\n",
        "  # urls = [url.strip() for url in unique_list if url.strip()]\n",
        "  unique_list = [item for item in unique_list if item]\n",
        "\n",
        "    # remove space\n",
        "  urls = [url.strip() for url in unique_list]\n",
        "\n",
        "  return urls\n",
        "\n",
        "# remove duplicatsed URL\n",
        "text_urls = remove_duplicates_and_merge(text_urls_old.split(\"\\n\"), new_urls.split(\"\\n\"))\n",
        "\n",
        "for url in text_urls:\n",
        "  print(f\"url : {url}\")"
      ],
      "metadata": {
        "colab": {
          "base_uri": "https://localhost:8080/"
        },
        "id": "pxMJGPQP8UJ_",
        "outputId": "dfa2c061-8772-40f1-eb2e-cba1a0561c4e"
      },
      "execution_count": 18,
      "outputs": [
        {
          "output_type": "stream",
          "name": "stdout",
          "text": [
            "duplicate item : \n",
            "duplicate item : \n",
            "duplicate item : \n",
            "duplicate item : https://www.foxnews.com/politics/trump-swearing-in-move-indoors-due-cold-weather-source-tells-fox-news\n",
            "duplicate item : \n",
            "url : https://www.foxnews.com/politics/trump-swearing-in-move-indoors-due-cold-weather-source-tells-fox-news, <class 'str'>\n",
            "url : https://www.foxnews.com/politics/trump-administration-planning-illegal-immigrant-arrests-across-us-day-one, <class 'str'>\n",
            "url : https://www.foxnews.com/politics/hegseth-backed-louisiana-sen-bill-cassidy-lead-pentagon-trump, <class 'str'>\n",
            "url : https://www.foxbusiness.com/technology/tiktok-says-go-dark-sunday-without-definitive-assurance-biden-admin-wont-enforce-ban, <class 'str'>\n",
            "url : https://www.foxnews.com/world/what-know-about-hostages-cease-fire-deal-between-israel-hamas-set-begin-sunday, <class 'str'>\n",
            "url : https://www.breitbart.com/politics/2025/01/17/biden-falsely-declares-states-ratified-equal-rights-amendment-era-constitution/, <class 'str'>\n",
            "url : https://www.breitbart.com/economy/2025/01/17/breitbart-business-digest-a-farewell-to-bidenomics-the-era-of-economic-mismanagement-ends/, <class 'str'>\n",
            "url : https://www.breitbart.com/tech/2025/01/17/ridiculous-capitol-one-blasted-technical-issue-affecting-customers-access-their-money/, <class 'str'>\n",
            "url : https://www.breitbart.com/economy/2025/01/17/kristi-noem-slams-democrats-on-mismanagement-of-migrants-children/, <class 'str'>\n",
            "url : https://www.foxnews.com/politics/porn-case-supreme-court-week-about-protecting-children-says-republican-ag, <class 'str'>\n",
            "url : https://www.foxnews.com/politics/fox-news-politics-newsletter-1-15-draft, <class 'str'>\n",
            "url : https://www.foxnews.com/politics/next-ohio-senator-fiscal-conservative-aims-get-government-out-peoples-lives, <class 'str'>\n",
            "url : https://www.foxnews.com/politics/biden-appointed-more-federal-judges-than-trump-did-his-first-term-new-research-shows, <class 'str'>\n",
            "url : https://www.foxnews.com/politics/fox-news-politics-newsletter-times-up-tiktok, <class 'str'>\n",
            "url : https://www.foxnews.com/politics/biden-wraps-up-half-century-political-career-failure-turn-page-trump-weighs-on-president, <class 'str'>\n",
            "url : https://www.foxnews.com/politics/greatest-inauguration-day-moments-us-history, <class 'str'>\n",
            "url : https://www.foxnews.com/politics/why-zuckerberg-killed-fact-checking-he-keeps-cozying-up-trump, <class 'str'>\n",
            "url : https://www.foxnews.com/politics/messy-backstage-jockeying-trump-transition-could-shape-hill-strategy-four-years-jan-6, <class 'str'>\n",
            "url : https://www.foxnews.com/politics/highlights-from-president-elect-donald-trumps-first-inauguration-day-what-expect-from-monday, <class 'str'>\n",
            "url : https://www.foxnews.com/politics/fox-news-politics-newsletter-sparring-bondi, <class 'str'>\n",
            "url : https://www.foxnews.com/politics/doge-caucus-plans-biggest-impact-eyeing-key-tools-expedite-cutting-waste, <class 'str'>\n",
            "url : https://www.foxnews.com/politics/hitchhikers-guide-snowball-fights-moving-inauguration-inside, <class 'str'>\n"
          ]
        }
      ]
    },
    {
      "cell_type": "code",
      "source": [],
      "metadata": {
        "id": "JHHOSw66EJqW"
      },
      "execution_count": 2,
      "outputs": []
    },
    {
      "cell_type": "markdown",
      "source": [
        "# helper"
      ],
      "metadata": {
        "id": "4Cg5x94wl9gW"
      }
    },
    {
      "cell_type": "code",
      "source": [
        "# get current_date_time\n",
        "from datetime import datetime\n",
        "\n",
        "# create document tile (date_time)\n",
        "def get_doc_title():\n",
        "  current_date_time = datetime.now()\n",
        "  # print(current_date_time)\n",
        "\n",
        "  # concat date_time to string\n",
        "  current_date_time_str = current_date_time.strftime(\"%Y%m%d_%H%M%S\")\n",
        "  # print(current_date_time_str)\n",
        "  return \"textbook_\" + current_date_time_str\n",
        "\n",
        "\n",
        "def print_first_last_lines(text):\n",
        "  lines = text.split(\"\\n\")\n",
        "\n",
        "  for line in lines[:5]:\n",
        "    print(line)\n",
        "  print(\"........\")\n",
        "  for line in lines[-5:]:\n",
        "    print(line)\n",
        "\n",
        "# create url list[str]\n",
        "def read_url_text(text_urls):\n",
        "\n",
        "  try:\n",
        "    urls = text_urls.split(\"\\n\")\n",
        "\n",
        "    # remove null or empty element in the urls\n",
        "    urls = [url.strip() for url in urls if url.strip()]\n",
        "\n",
        "    # remove space\n",
        "    urls = [url.strip() for url in urls]\n",
        "    return urls\n",
        "  except Exception as e:\n",
        "    print(f\"Error: {e}\")\n",
        "    return text_urls"
      ],
      "metadata": {
        "id": "cjtqBO48l6Md"
      },
      "execution_count": 3,
      "outputs": []
    },
    {
      "cell_type": "markdown",
      "source": [
        "# Init GenAI"
      ],
      "metadata": {
        "id": "Jg3yFgjfFR7_"
      }
    },
    {
      "cell_type": "code",
      "source": [
        "from google import genai\n",
        "from google.genai import types\n",
        "import os\n",
        "from google.colab import userdata\n",
        "\n",
        "os.environ[\"GOOGLE_API_KEY\"] = userdata.get(\"GOOGLE_API_KEY\")\n",
        "\n",
        "# Explicitly configure the API key using genai.configure\n",
        "# genai.configure(api_key=userdata.get(\"GOOGLE_API_KEY\"))\n",
        "\n",
        "\n",
        "\n",
        "client = genai.Client(api_key=userdata.get(\"GOOGLE_API_KEY\"))\n",
        "\n",
        "\n"
      ],
      "metadata": {
        "id": "Hucszb1DrXJ4"
      },
      "execution_count": 4,
      "outputs": []
    },
    {
      "cell_type": "markdown",
      "source": [
        "# Contents generation\n"
      ],
      "metadata": {
        "id": "0nP_COQwxIJt"
      }
    },
    {
      "cell_type": "code",
      "source": [
        "def generate_ai_text(prompt, contents):\n",
        "\n",
        "  contents = prompt + \"\\n\\n\" + contents\n",
        "\n",
        "  response = client.models.generate_content(\n",
        "      model='gemini-1.5-flash', contents=contents\n",
        "  )\n",
        "  return response.text"
      ],
      "metadata": {
        "id": "uCs7Cgstw9Nq"
      },
      "execution_count": 5,
      "outputs": []
    },
    {
      "cell_type": "markdown",
      "source": [
        "# Fox news extraction function"
      ],
      "metadata": {
        "id": "taAm1ooqDwl_"
      }
    },
    {
      "cell_type": "code",
      "source": [
        "import requests\n",
        "from bs4 import BeautifulSoup\n",
        "\n",
        "def extract_fox_news(url):\n",
        "\n",
        "  print(url)\n",
        "\n",
        "  return_text = \"\"\n",
        "\n",
        "    # 웹 페이지 요청\n",
        "  response = requests.get(url, verify=True)\n",
        "\n",
        "  # 페이지의 HTML 콘텐츠 파싱\n",
        "  soup = BeautifulSoup(response.content, 'html.parser')\n",
        "\n",
        "  # Get title\n",
        "  title = soup.find_all('title')\n",
        "  # print(f\"title: {title[0].get_text()}\")\n",
        "  # print(f\"{title[0].get_text()}\")\n",
        "  # print(title)\n",
        "  return_text = title[0].get_text() + \"\\n\"\n",
        "\n",
        "  #Get sub_headline\n",
        "  sub_headline = soup.find_all(\"h2\", class_=\"sub-headline\")\n",
        "  # print(f\"sub headline : {sub_headline[0].get_text()}\")\n",
        "  # print(f\"{sub_headline[0].get_text()}\")\n",
        "  # print(f\"sub_headline = {sub_headline}\")\n",
        "  return_text += sub_headline[0].get_text() + \"\\n\"\n",
        "\n",
        "\n",
        "\n",
        "  # 예시: 헤드라인 뉴스 크롤링\n",
        "  headlines = soup.find_all('div', class_='article-body')\n",
        "\n",
        "  for headline in headlines:\n",
        "      # print_sentences_with_period(headline.get_text())\n",
        "      # print (headline.get_text())\n",
        "      return_text += headline.get_text() + \"\\n\"\n",
        "\n",
        "  return return_text"
      ],
      "metadata": {
        "id": "w7E0N049Dymp"
      },
      "execution_count": 6,
      "outputs": []
    },
    {
      "cell_type": "markdown",
      "source": [
        "# Beitbart news extraction function"
      ],
      "metadata": {
        "id": "yQb78j9JDJdK"
      }
    },
    {
      "cell_type": "code",
      "source": [
        "import requests\n",
        "from bs4 import BeautifulSoup\n",
        "\n",
        "def extract_breitbart_news(url):\n",
        "\n",
        "  print(url)\n",
        "\n",
        "  return_text = \"\"\n",
        "\n",
        "  # 웹 페이지 요청\n",
        "  response = requests.get(url, verify=True)\n",
        "\n",
        "  # 페이지의 HTML 콘텐츠 파싱\n",
        "  soup = BeautifulSoup(response.content, 'html.parser')\n",
        "\n",
        "  # Get title\n",
        "  title = soup.find_all('title')\n",
        "  # print(f\"{title[0].get_text()}\")\n",
        "\n",
        "  return_text = title[0].get_text() + \"\\n\"\n",
        "\n",
        "  #Get sub_headline\n",
        "  # sub_headline = soup.find_all(\"p\", class_=\"subheading\")\n",
        "  # print(f\"sub headline : {sub_headline[0].get_text()}\")\n",
        "  # for text in sub_headline:\n",
        "    # print(text.get_text())\n",
        "\n",
        "  # print(\"\\n\")\n",
        "  # print(f\"{sub_headline[0].get_text()}\")\n",
        "\n",
        "\n",
        "  # 예시: 헤드라인 뉴스 크롤링\n",
        "  headlines = soup.find_all('p')\n",
        "\n",
        "  for headline in headlines:\n",
        "      # print_sentences_with_period(headline.get_text())\n",
        "      # print (headline.get_text())\n",
        "      return_text += headline.get_text() + \"\\n\"\n",
        "\n",
        "  return return_text"
      ],
      "metadata": {
        "id": "B79FEHWDwKdW"
      },
      "execution_count": 7,
      "outputs": []
    },
    {
      "cell_type": "markdown",
      "source": [
        "# Main"
      ],
      "metadata": {
        "id": "5ZCkNffWDV20"
      }
    },
    {
      "cell_type": "code",
      "source": [
        "\n",
        "\n"
      ],
      "metadata": {
        "id": "7w9eiJD2rWAk"
      },
      "execution_count": 7,
      "outputs": []
    },
    {
      "cell_type": "code",
      "source": [
        "FOXNEWS = \"foxnews\"\n",
        "BREIBART = \"breitbart\"\n",
        "\n",
        "# output dictionary\n",
        "file_output = \"\"\n",
        "\n",
        "# get urls\n",
        "# urls = read_url_text(text_urls)\n",
        "urls = text_urls\n",
        "\n",
        "for url in urls:\n",
        "  print(url)\n",
        "\n",
        "for url in urls:\n",
        "\n",
        "  print(\"debug\",url)\n",
        "  #file output - copy url\n",
        "  file_output += url + \"\\n\\n\"\n",
        "\n",
        "  if FOXNEWS in url:\n",
        "    text = extract_fox_news(url)\n",
        "  elif BREIBART in url:\n",
        "    text = extract_breitbart_news(url)\n",
        "  else:\n",
        "    print(\"Error : New Link is not supported yet\")\n",
        "\n",
        "  query = \"\"\"\n",
        "     Devide the text into sentences.\n",
        "     For each sentences, do next action items print the output with below format:\n",
        "     - English sentence\n",
        "     - List up IELT’s B2/C1/C2 vocabulrary with korean translation, without separate the words with newline.\n",
        "     - sentence Korean translation\n",
        "    \"\"\"\n",
        "\n",
        "  query = \"\"\"\n",
        "  다음 내용에서 사용된 영어 중급 레벨 이상의 \"phrasal verbs\"을 찾아줘. 전치사 없이 동사만 사용된 경우는 제외해줘.\n",
        "\n",
        "  출력 형식은 다음과 같이 해줘.\n",
        "  - phrasal verb (한글뜻) / 문장속의 예문\n",
        "  \"\"\"\n",
        "\n",
        "  output = generate_ai_text(query,text)\n",
        "  print(output)\n",
        "\n",
        "  #file output - copy output\n",
        "  file_output += output + \"\\n\"\n",
        "\n",
        "  query = \"\"\"\n",
        "다음 영어 텍스트를 분석하여 문장 단위로 나누고, 각 문장에 대해 다음 정보를 각 변수에 담아줘.\n",
        "\n",
        "1. 영어 문장 (Original English Sentence) -> 변수 : original_english_sentence\n",
        "2. IELT의 B2/C1/C2 수준의 단어/표현과 한글 뜻 : 변수 : key_words_and_korean_definitions\n",
        "3. 번역 (Sentence translation in Korean): 변수 : sentence_translation_in_korean\n",
        "\n",
        "출력 형식은 다음과 같이 해주고, 변수 이름은 출력하지 말고 변수값만 출력.\n",
        "\n",
        "original_english_sentence\n",
        "\n",
        "- key_words_and_korean_definitions\n",
        "-  sentence_translation_in_korean\n",
        "\"\"\"\n",
        "\n",
        "  output = generate_ai_text(query,text)\n",
        "  # print(output)\n",
        "  print_first_last_lines(output)\n",
        "\n",
        "  #file output - copy output\n",
        "  file_output += output + \"\\n\"\n",
        "\n",
        "file_output += \"[End of Document]\""
      ],
      "metadata": {
        "colab": {
          "base_uri": "https://localhost:8080/",
          "height": 1000
        },
        "id": "J_rJuVA4DQSW",
        "outputId": "ba27521c-c00e-4366-a3ed-351a0fe10338"
      },
      "execution_count": 19,
      "outputs": [
        {
          "output_type": "stream",
          "name": "stdout",
          "text": [
            "https://www.foxnews.com/politics/trump-swearing-in-move-indoors-due-cold-weather-source-tells-fox-news\n",
            "https://www.foxnews.com/politics/trump-administration-planning-illegal-immigrant-arrests-across-us-day-one\n",
            "https://www.foxnews.com/politics/hegseth-backed-louisiana-sen-bill-cassidy-lead-pentagon-trump\n",
            "https://www.foxbusiness.com/technology/tiktok-says-go-dark-sunday-without-definitive-assurance-biden-admin-wont-enforce-ban\n",
            "https://www.foxnews.com/world/what-know-about-hostages-cease-fire-deal-between-israel-hamas-set-begin-sunday\n",
            "https://www.breitbart.com/politics/2025/01/17/biden-falsely-declares-states-ratified-equal-rights-amendment-era-constitution/\n",
            "https://www.breitbart.com/economy/2025/01/17/breitbart-business-digest-a-farewell-to-bidenomics-the-era-of-economic-mismanagement-ends/\n",
            "https://www.breitbart.com/tech/2025/01/17/ridiculous-capitol-one-blasted-technical-issue-affecting-customers-access-their-money/\n",
            "https://www.breitbart.com/economy/2025/01/17/kristi-noem-slams-democrats-on-mismanagement-of-migrants-children/\n",
            "https://www.foxnews.com/politics/porn-case-supreme-court-week-about-protecting-children-says-republican-ag\n",
            "https://www.foxnews.com/politics/fox-news-politics-newsletter-1-15-draft\n",
            "https://www.foxnews.com/politics/next-ohio-senator-fiscal-conservative-aims-get-government-out-peoples-lives\n",
            "https://www.foxnews.com/politics/biden-appointed-more-federal-judges-than-trump-did-his-first-term-new-research-shows\n",
            "https://www.foxnews.com/politics/fox-news-politics-newsletter-times-up-tiktok\n",
            "https://www.foxnews.com/politics/biden-wraps-up-half-century-political-career-failure-turn-page-trump-weighs-on-president\n",
            "https://www.foxnews.com/politics/greatest-inauguration-day-moments-us-history\n",
            "https://www.foxnews.com/politics/why-zuckerberg-killed-fact-checking-he-keeps-cozying-up-trump\n",
            "https://www.foxnews.com/politics/messy-backstage-jockeying-trump-transition-could-shape-hill-strategy-four-years-jan-6\n",
            "https://www.foxnews.com/politics/highlights-from-president-elect-donald-trumps-first-inauguration-day-what-expect-from-monday\n",
            "https://www.foxnews.com/politics/fox-news-politics-newsletter-sparring-bondi\n",
            "https://www.foxnews.com/politics/doge-caucus-plans-biggest-impact-eyeing-key-tools-expedite-cutting-waste\n",
            "https://www.foxnews.com/politics/hitchhikers-guide-snowball-fights-moving-inauguration-inside\n",
            "debug https://www.foxnews.com/politics/trump-swearing-in-move-indoors-due-cold-weather-source-tells-fox-news\n",
            "https://www.foxnews.com/politics/trump-swearing-in-move-indoors-due-cold-weather-source-tells-fox-news\n",
            "- **move in** (안으로 옮기다) / The swearing-in ceremony for President-elect Trump's inauguration will be moved inside because of cold temperatures forecast for Washington, D.C.\n",
            "- **swiped at** (비난하다) / Kid Rock swipes Michelle Obama for not attending Trump’s inauguration\n",
            "- **take in** (받아들이다, 이해하다) / (이 문맥에서는  expected cold 라는 뜻으로 해석될 수 있음. 직역하면  \"예상되는 추위를 받아들이다\" 라는 뜻이지만,  \"예상되는 추위를 감안하다\" 또는 \"예상되는 추위 때문에\" 라는 뜻으로 해석하는 것이 더 자연스러움)  \"The weather forecast for Washington, D.C., with the windchill factor, could take temperatures into severe record lows,\" Trump posted on Truth Social, addressing the expected cold.\n",
            "- **dress warmly** (따뜻하게 입다) / (In any event, if you decide to come, dress warmly!)\n",
            "- **fall to** (떨어지다) / temperatures expected to fall to the upper 20s\n",
            "- **look like** (처럼 보이다) / it will feel more like single digit temperatures\n",
            "- **take place** (일어나다, 개최되다) / People take their places as a rehearsal begins\n",
            "- **take the oath of office** (취임 선서하다) / Regan had taken the oath of office the day before at the White House\n",
            "- **speak on** ( ~에 대해 말하다) / Trump, China's Xi speak on phone ahead of inauguration\n",
            "- **set up** (설치하다, 준비하다) / (이 문맥에서는 “준비가 되어 있다” 라는 뜻으로 해석될 수 있음)  ELON MUSK SLATED TO SPEAK AT TRUMP PRE-INAUGURATION RALLY: REPORT\n",
            "\n",
            "\n",
            "Trump inauguration to move indoors due to cold weather, source tells Fox News | Fox News\n",
            "\n",
            "- inauguration(취임식), cold weather(추운 날씨), source(소식통), Fox News(폭스 뉴스)\n",
            "- 혹한으로 인해 트럼프 취임식이 실내로 옮겨질 것이라고 폭스 뉴스 소식통이 전했다.\n",
            "\n",
            "........\n",
            "\n",
            "- tips(제보), Twitter(트위터)\n",
            "- chris.pandolfo@fox.com으로 제보를 보내고 트위터 @ChrisCPandolfo를 팔로우하세요.\n",
            "\n",
            "\n",
            "debug https://www.foxnews.com/politics/trump-administration-planning-illegal-immigrant-arrests-across-us-day-one\n",
            "https://www.foxnews.com/politics/trump-administration-planning-illegal-immigrant-arrests-across-us-day-one\n",
            "- kick off (시작하다) / The incoming Trump administration is set to kick off deportations come Tuesday after the inauguration…\n",
            "- take off (제거하다, 해제하다) / …they are ready to \"take the handcuffs off\" Immigration and Customs Enforcement (ICE).\n",
            "- go out (나가다, 출동하다) / On Tuesday, ICE is finally going to go out and do their job.\n",
            "- work together (협력하다) / But New York City Mayor Eric Adams has met with Homan about how they can work together on removing illegal immigrants…\n",
            "\n",
            "\n",
            "\n"
          ]
        },
        {
          "output_type": "error",
          "ename": "KeyboardInterrupt",
          "evalue": "",
          "traceback": [
            "\u001b[0;31m---------------------------------------------------------------------------\u001b[0m",
            "\u001b[0;31mKeyboardInterrupt\u001b[0m                         Traceback (most recent call last)",
            "\u001b[0;32m<ipython-input-19-0ba4d838037b>\u001b[0m in \u001b[0;36m<cell line: 14>\u001b[0;34m()\u001b[0m\n\u001b[1;32m     61\u001b[0m \"\"\"\n\u001b[1;32m     62\u001b[0m \u001b[0;34m\u001b[0m\u001b[0m\n\u001b[0;32m---> 63\u001b[0;31m   \u001b[0moutput\u001b[0m \u001b[0;34m=\u001b[0m \u001b[0mgenerate_ai_text\u001b[0m\u001b[0;34m(\u001b[0m\u001b[0mquery\u001b[0m\u001b[0;34m,\u001b[0m\u001b[0mtext\u001b[0m\u001b[0;34m)\u001b[0m\u001b[0;34m\u001b[0m\u001b[0;34m\u001b[0m\u001b[0m\n\u001b[0m\u001b[1;32m     64\u001b[0m   \u001b[0;31m# print(output)\u001b[0m\u001b[0;34m\u001b[0m\u001b[0;34m\u001b[0m\u001b[0m\n\u001b[1;32m     65\u001b[0m   \u001b[0mprint_first_last_lines\u001b[0m\u001b[0;34m(\u001b[0m\u001b[0moutput\u001b[0m\u001b[0;34m)\u001b[0m\u001b[0;34m\u001b[0m\u001b[0;34m\u001b[0m\u001b[0m\n",
            "\u001b[0;32m<ipython-input-5-e6c8c4ef7f97>\u001b[0m in \u001b[0;36mgenerate_ai_text\u001b[0;34m(prompt, contents)\u001b[0m\n\u001b[1;32m      3\u001b[0m   \u001b[0mcontents\u001b[0m \u001b[0;34m=\u001b[0m \u001b[0mprompt\u001b[0m \u001b[0;34m+\u001b[0m \u001b[0;34m\"\\n\\n\"\u001b[0m \u001b[0;34m+\u001b[0m \u001b[0mcontents\u001b[0m\u001b[0;34m\u001b[0m\u001b[0;34m\u001b[0m\u001b[0m\n\u001b[1;32m      4\u001b[0m \u001b[0;34m\u001b[0m\u001b[0m\n\u001b[0;32m----> 5\u001b[0;31m   response = client.models.generate_content(\n\u001b[0m\u001b[1;32m      6\u001b[0m       \u001b[0mmodel\u001b[0m\u001b[0;34m=\u001b[0m\u001b[0;34m'gemini-1.5-flash'\u001b[0m\u001b[0;34m,\u001b[0m \u001b[0mcontents\u001b[0m\u001b[0;34m=\u001b[0m\u001b[0mcontents\u001b[0m\u001b[0;34m\u001b[0m\u001b[0;34m\u001b[0m\u001b[0m\n\u001b[1;32m      7\u001b[0m   )\n",
            "\u001b[0;32m/usr/local/lib/python3.10/dist-packages/google/genai/models.py\u001b[0m in \u001b[0;36mgenerate_content\u001b[0;34m(self, model, contents, config)\u001b[0m\n\u001b[1;32m   4403\u001b[0m     \u001b[0mautomatic_function_calling_history\u001b[0m \u001b[0;34m=\u001b[0m \u001b[0;34m[\u001b[0m\u001b[0;34m]\u001b[0m\u001b[0;34m\u001b[0m\u001b[0;34m\u001b[0m\u001b[0m\n\u001b[1;32m   4404\u001b[0m     \u001b[0;32mwhile\u001b[0m \u001b[0mremaining_remote_calls_afc\u001b[0m \u001b[0;34m>\u001b[0m \u001b[0;36m0\u001b[0m\u001b[0;34m:\u001b[0m\u001b[0;34m\u001b[0m\u001b[0;34m\u001b[0m\u001b[0m\n\u001b[0;32m-> 4405\u001b[0;31m       response = self._generate_content(\n\u001b[0m\u001b[1;32m   4406\u001b[0m           \u001b[0mmodel\u001b[0m\u001b[0;34m=\u001b[0m\u001b[0mmodel\u001b[0m\u001b[0;34m,\u001b[0m \u001b[0mcontents\u001b[0m\u001b[0;34m=\u001b[0m\u001b[0mcontents\u001b[0m\u001b[0;34m,\u001b[0m \u001b[0mconfig\u001b[0m\u001b[0;34m=\u001b[0m\u001b[0mconfig\u001b[0m\u001b[0;34m\u001b[0m\u001b[0;34m\u001b[0m\u001b[0m\n\u001b[1;32m   4407\u001b[0m       )\n",
            "\u001b[0;32m/usr/local/lib/python3.10/dist-packages/google/genai/models.py\u001b[0m in \u001b[0;36m_generate_content\u001b[0;34m(self, model, contents, config)\u001b[0m\n\u001b[1;32m   3665\u001b[0m     \u001b[0mrequest_dict\u001b[0m \u001b[0;34m=\u001b[0m \u001b[0m_common\u001b[0m\u001b[0;34m.\u001b[0m\u001b[0mapply_base64_encoding\u001b[0m\u001b[0;34m(\u001b[0m\u001b[0mrequest_dict\u001b[0m\u001b[0;34m)\u001b[0m\u001b[0;34m\u001b[0m\u001b[0;34m\u001b[0m\u001b[0m\n\u001b[1;32m   3666\u001b[0m \u001b[0;34m\u001b[0m\u001b[0m\n\u001b[0;32m-> 3667\u001b[0;31m     response_dict = self.api_client.request(\n\u001b[0m\u001b[1;32m   3668\u001b[0m         \u001b[0;34m'post'\u001b[0m\u001b[0;34m,\u001b[0m \u001b[0mpath\u001b[0m\u001b[0;34m,\u001b[0m \u001b[0mrequest_dict\u001b[0m\u001b[0;34m,\u001b[0m \u001b[0mhttp_options\u001b[0m\u001b[0;34m\u001b[0m\u001b[0;34m\u001b[0m\u001b[0m\n\u001b[1;32m   3669\u001b[0m     )\n",
            "\u001b[0;32m/usr/local/lib/python3.10/dist-packages/google/genai/_api_client.py\u001b[0m in \u001b[0;36mrequest\u001b[0;34m(self, http_method, path, request_dict, http_options)\u001b[0m\n\u001b[1;32m    323\u001b[0m         \u001b[0mhttp_method\u001b[0m\u001b[0;34m,\u001b[0m \u001b[0mpath\u001b[0m\u001b[0;34m,\u001b[0m \u001b[0mrequest_dict\u001b[0m\u001b[0;34m,\u001b[0m \u001b[0mhttp_options\u001b[0m\u001b[0;34m\u001b[0m\u001b[0;34m\u001b[0m\u001b[0m\n\u001b[1;32m    324\u001b[0m     )\n\u001b[0;32m--> 325\u001b[0;31m     \u001b[0mresponse\u001b[0m \u001b[0;34m=\u001b[0m \u001b[0mself\u001b[0m\u001b[0;34m.\u001b[0m\u001b[0m_request\u001b[0m\u001b[0;34m(\u001b[0m\u001b[0mhttp_request\u001b[0m\u001b[0;34m,\u001b[0m \u001b[0mstream\u001b[0m\u001b[0;34m=\u001b[0m\u001b[0;32mFalse\u001b[0m\u001b[0;34m)\u001b[0m\u001b[0;34m\u001b[0m\u001b[0;34m\u001b[0m\u001b[0m\n\u001b[0m\u001b[1;32m    326\u001b[0m     \u001b[0;32mif\u001b[0m \u001b[0mhttp_options\u001b[0m \u001b[0;32mand\u001b[0m \u001b[0;34m'response_payload'\u001b[0m \u001b[0;32min\u001b[0m \u001b[0mhttp_options\u001b[0m\u001b[0;34m:\u001b[0m\u001b[0;34m\u001b[0m\u001b[0;34m\u001b[0m\u001b[0m\n\u001b[1;32m    327\u001b[0m       \u001b[0mresponse\u001b[0m\u001b[0;34m.\u001b[0m\u001b[0mcopy_to_dict\u001b[0m\u001b[0;34m(\u001b[0m\u001b[0mhttp_options\u001b[0m\u001b[0;34m[\u001b[0m\u001b[0;34m'response_payload'\u001b[0m\u001b[0;34m]\u001b[0m\u001b[0;34m)\u001b[0m\u001b[0;34m\u001b[0m\u001b[0;34m\u001b[0m\u001b[0m\n",
            "\u001b[0;32m/usr/local/lib/python3.10/dist-packages/google/genai/_api_client.py\u001b[0m in \u001b[0;36m_request\u001b[0;34m(self, http_request, stream)\u001b[0m\n\u001b[1;32m    261\u001b[0m       )\n\u001b[1;32m    262\u001b[0m     \u001b[0;32melse\u001b[0m\u001b[0;34m:\u001b[0m\u001b[0;34m\u001b[0m\u001b[0;34m\u001b[0m\u001b[0m\n\u001b[0;32m--> 263\u001b[0;31m       \u001b[0;32mreturn\u001b[0m \u001b[0mself\u001b[0m\u001b[0;34m.\u001b[0m\u001b[0m_request_unauthorized\u001b[0m\u001b[0;34m(\u001b[0m\u001b[0mhttp_request\u001b[0m\u001b[0;34m,\u001b[0m \u001b[0mstream\u001b[0m\u001b[0;34m)\u001b[0m\u001b[0;34m\u001b[0m\u001b[0;34m\u001b[0m\u001b[0m\n\u001b[0m\u001b[1;32m    264\u001b[0m \u001b[0;34m\u001b[0m\u001b[0m\n\u001b[1;32m    265\u001b[0m   def _request_unauthorized(\n",
            "\u001b[0;32m/usr/local/lib/python3.10/dist-packages/google/genai/_api_client.py\u001b[0m in \u001b[0;36m_request_unauthorized\u001b[0;34m(self, http_request, stream)\u001b[0m\n\u001b[1;32m    282\u001b[0m         \u001b[0mdata\u001b[0m\u001b[0;34m=\u001b[0m\u001b[0mdata\u001b[0m\u001b[0;34m,\u001b[0m\u001b[0;34m\u001b[0m\u001b[0;34m\u001b[0m\u001b[0m\n\u001b[1;32m    283\u001b[0m     ).prepare()\n\u001b[0;32m--> 284\u001b[0;31m     \u001b[0mresponse\u001b[0m \u001b[0;34m=\u001b[0m \u001b[0mhttp_session\u001b[0m\u001b[0;34m.\u001b[0m\u001b[0msend\u001b[0m\u001b[0;34m(\u001b[0m\u001b[0mrequest\u001b[0m\u001b[0;34m,\u001b[0m \u001b[0mstream\u001b[0m\u001b[0;34m=\u001b[0m\u001b[0mstream\u001b[0m\u001b[0;34m)\u001b[0m\u001b[0;34m\u001b[0m\u001b[0;34m\u001b[0m\u001b[0m\n\u001b[0m\u001b[1;32m    285\u001b[0m     \u001b[0merrors\u001b[0m\u001b[0;34m.\u001b[0m\u001b[0mAPIError\u001b[0m\u001b[0;34m.\u001b[0m\u001b[0mraise_for_response\u001b[0m\u001b[0;34m(\u001b[0m\u001b[0mresponse\u001b[0m\u001b[0;34m)\u001b[0m\u001b[0;34m\u001b[0m\u001b[0;34m\u001b[0m\u001b[0m\n\u001b[1;32m    286\u001b[0m     return HttpResponse(\n",
            "\u001b[0;32m/usr/local/lib/python3.10/dist-packages/requests/sessions.py\u001b[0m in \u001b[0;36msend\u001b[0;34m(self, request, **kwargs)\u001b[0m\n\u001b[1;32m    701\u001b[0m \u001b[0;34m\u001b[0m\u001b[0m\n\u001b[1;32m    702\u001b[0m         \u001b[0;31m# Send the request\u001b[0m\u001b[0;34m\u001b[0m\u001b[0;34m\u001b[0m\u001b[0m\n\u001b[0;32m--> 703\u001b[0;31m         \u001b[0mr\u001b[0m \u001b[0;34m=\u001b[0m \u001b[0madapter\u001b[0m\u001b[0;34m.\u001b[0m\u001b[0msend\u001b[0m\u001b[0;34m(\u001b[0m\u001b[0mrequest\u001b[0m\u001b[0;34m,\u001b[0m \u001b[0;34m**\u001b[0m\u001b[0mkwargs\u001b[0m\u001b[0;34m)\u001b[0m\u001b[0;34m\u001b[0m\u001b[0;34m\u001b[0m\u001b[0m\n\u001b[0m\u001b[1;32m    704\u001b[0m \u001b[0;34m\u001b[0m\u001b[0m\n\u001b[1;32m    705\u001b[0m         \u001b[0;31m# Total elapsed time of the request (approximately)\u001b[0m\u001b[0;34m\u001b[0m\u001b[0;34m\u001b[0m\u001b[0m\n",
            "\u001b[0;32m/usr/local/lib/python3.10/dist-packages/requests/adapters.py\u001b[0m in \u001b[0;36msend\u001b[0;34m(self, request, stream, timeout, verify, cert, proxies)\u001b[0m\n\u001b[1;32m    665\u001b[0m \u001b[0;34m\u001b[0m\u001b[0m\n\u001b[1;32m    666\u001b[0m         \u001b[0;32mtry\u001b[0m\u001b[0;34m:\u001b[0m\u001b[0;34m\u001b[0m\u001b[0;34m\u001b[0m\u001b[0m\n\u001b[0;32m--> 667\u001b[0;31m             resp = conn.urlopen(\n\u001b[0m\u001b[1;32m    668\u001b[0m                 \u001b[0mmethod\u001b[0m\u001b[0;34m=\u001b[0m\u001b[0mrequest\u001b[0m\u001b[0;34m.\u001b[0m\u001b[0mmethod\u001b[0m\u001b[0;34m,\u001b[0m\u001b[0;34m\u001b[0m\u001b[0;34m\u001b[0m\u001b[0m\n\u001b[1;32m    669\u001b[0m                 \u001b[0murl\u001b[0m\u001b[0;34m=\u001b[0m\u001b[0murl\u001b[0m\u001b[0;34m,\u001b[0m\u001b[0;34m\u001b[0m\u001b[0;34m\u001b[0m\u001b[0m\n",
            "\u001b[0;32m/usr/local/lib/python3.10/dist-packages/urllib3/connectionpool.py\u001b[0m in \u001b[0;36murlopen\u001b[0;34m(self, method, url, body, headers, retries, redirect, assert_same_host, timeout, pool_timeout, release_conn, chunked, body_pos, preload_content, decode_content, **response_kw)\u001b[0m\n\u001b[1;32m    787\u001b[0m \u001b[0;34m\u001b[0m\u001b[0m\n\u001b[1;32m    788\u001b[0m             \u001b[0;31m# Make the request on the HTTPConnection object\u001b[0m\u001b[0;34m\u001b[0m\u001b[0;34m\u001b[0m\u001b[0m\n\u001b[0;32m--> 789\u001b[0;31m             response = self._make_request(\n\u001b[0m\u001b[1;32m    790\u001b[0m                 \u001b[0mconn\u001b[0m\u001b[0;34m,\u001b[0m\u001b[0;34m\u001b[0m\u001b[0;34m\u001b[0m\u001b[0m\n\u001b[1;32m    791\u001b[0m                 \u001b[0mmethod\u001b[0m\u001b[0;34m,\u001b[0m\u001b[0;34m\u001b[0m\u001b[0;34m\u001b[0m\u001b[0m\n",
            "\u001b[0;32m/usr/local/lib/python3.10/dist-packages/urllib3/connectionpool.py\u001b[0m in \u001b[0;36m_make_request\u001b[0;34m(self, conn, method, url, body, headers, retries, timeout, chunked, response_conn, preload_content, decode_content, enforce_content_length)\u001b[0m\n\u001b[1;32m    534\u001b[0m         \u001b[0;31m# Receive the response from the server\u001b[0m\u001b[0;34m\u001b[0m\u001b[0;34m\u001b[0m\u001b[0m\n\u001b[1;32m    535\u001b[0m         \u001b[0;32mtry\u001b[0m\u001b[0;34m:\u001b[0m\u001b[0;34m\u001b[0m\u001b[0;34m\u001b[0m\u001b[0m\n\u001b[0;32m--> 536\u001b[0;31m             \u001b[0mresponse\u001b[0m \u001b[0;34m=\u001b[0m \u001b[0mconn\u001b[0m\u001b[0;34m.\u001b[0m\u001b[0mgetresponse\u001b[0m\u001b[0;34m(\u001b[0m\u001b[0;34m)\u001b[0m\u001b[0;34m\u001b[0m\u001b[0;34m\u001b[0m\u001b[0m\n\u001b[0m\u001b[1;32m    537\u001b[0m         \u001b[0;32mexcept\u001b[0m \u001b[0;34m(\u001b[0m\u001b[0mBaseSSLError\u001b[0m\u001b[0;34m,\u001b[0m \u001b[0mOSError\u001b[0m\u001b[0;34m)\u001b[0m \u001b[0;32mas\u001b[0m \u001b[0me\u001b[0m\u001b[0;34m:\u001b[0m\u001b[0;34m\u001b[0m\u001b[0;34m\u001b[0m\u001b[0m\n\u001b[1;32m    538\u001b[0m             \u001b[0mself\u001b[0m\u001b[0;34m.\u001b[0m\u001b[0m_raise_timeout\u001b[0m\u001b[0;34m(\u001b[0m\u001b[0merr\u001b[0m\u001b[0;34m=\u001b[0m\u001b[0me\u001b[0m\u001b[0;34m,\u001b[0m \u001b[0murl\u001b[0m\u001b[0;34m=\u001b[0m\u001b[0murl\u001b[0m\u001b[0;34m,\u001b[0m \u001b[0mtimeout_value\u001b[0m\u001b[0;34m=\u001b[0m\u001b[0mread_timeout\u001b[0m\u001b[0;34m)\u001b[0m\u001b[0;34m\u001b[0m\u001b[0;34m\u001b[0m\u001b[0m\n",
            "\u001b[0;32m/usr/local/lib/python3.10/dist-packages/urllib3/connection.py\u001b[0m in \u001b[0;36mgetresponse\u001b[0;34m(self)\u001b[0m\n\u001b[1;32m    505\u001b[0m \u001b[0;34m\u001b[0m\u001b[0m\n\u001b[1;32m    506\u001b[0m         \u001b[0;31m# Get the response from http.client.HTTPConnection\u001b[0m\u001b[0;34m\u001b[0m\u001b[0;34m\u001b[0m\u001b[0m\n\u001b[0;32m--> 507\u001b[0;31m         \u001b[0mhttplib_response\u001b[0m \u001b[0;34m=\u001b[0m \u001b[0msuper\u001b[0m\u001b[0;34m(\u001b[0m\u001b[0;34m)\u001b[0m\u001b[0;34m.\u001b[0m\u001b[0mgetresponse\u001b[0m\u001b[0;34m(\u001b[0m\u001b[0;34m)\u001b[0m\u001b[0;34m\u001b[0m\u001b[0;34m\u001b[0m\u001b[0m\n\u001b[0m\u001b[1;32m    508\u001b[0m \u001b[0;34m\u001b[0m\u001b[0m\n\u001b[1;32m    509\u001b[0m         \u001b[0;32mtry\u001b[0m\u001b[0;34m:\u001b[0m\u001b[0;34m\u001b[0m\u001b[0;34m\u001b[0m\u001b[0m\n",
            "\u001b[0;32m/usr/lib/python3.10/http/client.py\u001b[0m in \u001b[0;36mgetresponse\u001b[0;34m(self)\u001b[0m\n\u001b[1;32m   1373\u001b[0m         \u001b[0;32mtry\u001b[0m\u001b[0;34m:\u001b[0m\u001b[0;34m\u001b[0m\u001b[0;34m\u001b[0m\u001b[0m\n\u001b[1;32m   1374\u001b[0m             \u001b[0;32mtry\u001b[0m\u001b[0;34m:\u001b[0m\u001b[0;34m\u001b[0m\u001b[0;34m\u001b[0m\u001b[0m\n\u001b[0;32m-> 1375\u001b[0;31m                 \u001b[0mresponse\u001b[0m\u001b[0;34m.\u001b[0m\u001b[0mbegin\u001b[0m\u001b[0;34m(\u001b[0m\u001b[0;34m)\u001b[0m\u001b[0;34m\u001b[0m\u001b[0;34m\u001b[0m\u001b[0m\n\u001b[0m\u001b[1;32m   1376\u001b[0m             \u001b[0;32mexcept\u001b[0m \u001b[0mConnectionError\u001b[0m\u001b[0;34m:\u001b[0m\u001b[0;34m\u001b[0m\u001b[0;34m\u001b[0m\u001b[0m\n\u001b[1;32m   1377\u001b[0m                 \u001b[0mself\u001b[0m\u001b[0;34m.\u001b[0m\u001b[0mclose\u001b[0m\u001b[0;34m(\u001b[0m\u001b[0;34m)\u001b[0m\u001b[0;34m\u001b[0m\u001b[0;34m\u001b[0m\u001b[0m\n",
            "\u001b[0;32m/usr/lib/python3.10/http/client.py\u001b[0m in \u001b[0;36mbegin\u001b[0;34m(self)\u001b[0m\n\u001b[1;32m    316\u001b[0m         \u001b[0;31m# read until we get a non-100 response\u001b[0m\u001b[0;34m\u001b[0m\u001b[0;34m\u001b[0m\u001b[0m\n\u001b[1;32m    317\u001b[0m         \u001b[0;32mwhile\u001b[0m \u001b[0;32mTrue\u001b[0m\u001b[0;34m:\u001b[0m\u001b[0;34m\u001b[0m\u001b[0;34m\u001b[0m\u001b[0m\n\u001b[0;32m--> 318\u001b[0;31m             \u001b[0mversion\u001b[0m\u001b[0;34m,\u001b[0m \u001b[0mstatus\u001b[0m\u001b[0;34m,\u001b[0m \u001b[0mreason\u001b[0m \u001b[0;34m=\u001b[0m \u001b[0mself\u001b[0m\u001b[0;34m.\u001b[0m\u001b[0m_read_status\u001b[0m\u001b[0;34m(\u001b[0m\u001b[0;34m)\u001b[0m\u001b[0;34m\u001b[0m\u001b[0;34m\u001b[0m\u001b[0m\n\u001b[0m\u001b[1;32m    319\u001b[0m             \u001b[0;32mif\u001b[0m \u001b[0mstatus\u001b[0m \u001b[0;34m!=\u001b[0m \u001b[0mCONTINUE\u001b[0m\u001b[0;34m:\u001b[0m\u001b[0;34m\u001b[0m\u001b[0;34m\u001b[0m\u001b[0m\n\u001b[1;32m    320\u001b[0m                 \u001b[0;32mbreak\u001b[0m\u001b[0;34m\u001b[0m\u001b[0;34m\u001b[0m\u001b[0m\n",
            "\u001b[0;32m/usr/lib/python3.10/http/client.py\u001b[0m in \u001b[0;36m_read_status\u001b[0;34m(self)\u001b[0m\n\u001b[1;32m    277\u001b[0m \u001b[0;34m\u001b[0m\u001b[0m\n\u001b[1;32m    278\u001b[0m     \u001b[0;32mdef\u001b[0m \u001b[0m_read_status\u001b[0m\u001b[0;34m(\u001b[0m\u001b[0mself\u001b[0m\u001b[0;34m)\u001b[0m\u001b[0;34m:\u001b[0m\u001b[0;34m\u001b[0m\u001b[0;34m\u001b[0m\u001b[0m\n\u001b[0;32m--> 279\u001b[0;31m         \u001b[0mline\u001b[0m \u001b[0;34m=\u001b[0m \u001b[0mstr\u001b[0m\u001b[0;34m(\u001b[0m\u001b[0mself\u001b[0m\u001b[0;34m.\u001b[0m\u001b[0mfp\u001b[0m\u001b[0;34m.\u001b[0m\u001b[0mreadline\u001b[0m\u001b[0;34m(\u001b[0m\u001b[0m_MAXLINE\u001b[0m \u001b[0;34m+\u001b[0m \u001b[0;36m1\u001b[0m\u001b[0;34m)\u001b[0m\u001b[0;34m,\u001b[0m \u001b[0;34m\"iso-8859-1\"\u001b[0m\u001b[0;34m)\u001b[0m\u001b[0;34m\u001b[0m\u001b[0;34m\u001b[0m\u001b[0m\n\u001b[0m\u001b[1;32m    280\u001b[0m         \u001b[0;32mif\u001b[0m \u001b[0mlen\u001b[0m\u001b[0;34m(\u001b[0m\u001b[0mline\u001b[0m\u001b[0;34m)\u001b[0m \u001b[0;34m>\u001b[0m \u001b[0m_MAXLINE\u001b[0m\u001b[0;34m:\u001b[0m\u001b[0;34m\u001b[0m\u001b[0;34m\u001b[0m\u001b[0m\n\u001b[1;32m    281\u001b[0m             \u001b[0;32mraise\u001b[0m \u001b[0mLineTooLong\u001b[0m\u001b[0;34m(\u001b[0m\u001b[0;34m\"status line\"\u001b[0m\u001b[0;34m)\u001b[0m\u001b[0;34m\u001b[0m\u001b[0;34m\u001b[0m\u001b[0m\n",
            "\u001b[0;32m/usr/lib/python3.10/socket.py\u001b[0m in \u001b[0;36mreadinto\u001b[0;34m(self, b)\u001b[0m\n\u001b[1;32m    703\u001b[0m         \u001b[0;32mwhile\u001b[0m \u001b[0;32mTrue\u001b[0m\u001b[0;34m:\u001b[0m\u001b[0;34m\u001b[0m\u001b[0;34m\u001b[0m\u001b[0m\n\u001b[1;32m    704\u001b[0m             \u001b[0;32mtry\u001b[0m\u001b[0;34m:\u001b[0m\u001b[0;34m\u001b[0m\u001b[0;34m\u001b[0m\u001b[0m\n\u001b[0;32m--> 705\u001b[0;31m                 \u001b[0;32mreturn\u001b[0m \u001b[0mself\u001b[0m\u001b[0;34m.\u001b[0m\u001b[0m_sock\u001b[0m\u001b[0;34m.\u001b[0m\u001b[0mrecv_into\u001b[0m\u001b[0;34m(\u001b[0m\u001b[0mb\u001b[0m\u001b[0;34m)\u001b[0m\u001b[0;34m\u001b[0m\u001b[0;34m\u001b[0m\u001b[0m\n\u001b[0m\u001b[1;32m    706\u001b[0m             \u001b[0;32mexcept\u001b[0m \u001b[0mtimeout\u001b[0m\u001b[0;34m:\u001b[0m\u001b[0;34m\u001b[0m\u001b[0;34m\u001b[0m\u001b[0m\n\u001b[1;32m    707\u001b[0m                 \u001b[0mself\u001b[0m\u001b[0;34m.\u001b[0m\u001b[0m_timeout_occurred\u001b[0m \u001b[0;34m=\u001b[0m \u001b[0;32mTrue\u001b[0m\u001b[0;34m\u001b[0m\u001b[0;34m\u001b[0m\u001b[0m\n",
            "\u001b[0;32m/usr/lib/python3.10/ssl.py\u001b[0m in \u001b[0;36mrecv_into\u001b[0;34m(self, buffer, nbytes, flags)\u001b[0m\n\u001b[1;32m   1301\u001b[0m                   \u001b[0;34m\"non-zero flags not allowed in calls to recv_into() on %s\"\u001b[0m \u001b[0;34m%\u001b[0m\u001b[0;34m\u001b[0m\u001b[0;34m\u001b[0m\u001b[0m\n\u001b[1;32m   1302\u001b[0m                   self.__class__)\n\u001b[0;32m-> 1303\u001b[0;31m             \u001b[0;32mreturn\u001b[0m \u001b[0mself\u001b[0m\u001b[0;34m.\u001b[0m\u001b[0mread\u001b[0m\u001b[0;34m(\u001b[0m\u001b[0mnbytes\u001b[0m\u001b[0;34m,\u001b[0m \u001b[0mbuffer\u001b[0m\u001b[0;34m)\u001b[0m\u001b[0;34m\u001b[0m\u001b[0;34m\u001b[0m\u001b[0m\n\u001b[0m\u001b[1;32m   1304\u001b[0m         \u001b[0;32melse\u001b[0m\u001b[0;34m:\u001b[0m\u001b[0;34m\u001b[0m\u001b[0;34m\u001b[0m\u001b[0m\n\u001b[1;32m   1305\u001b[0m             \u001b[0;32mreturn\u001b[0m \u001b[0msuper\u001b[0m\u001b[0;34m(\u001b[0m\u001b[0;34m)\u001b[0m\u001b[0;34m.\u001b[0m\u001b[0mrecv_into\u001b[0m\u001b[0;34m(\u001b[0m\u001b[0mbuffer\u001b[0m\u001b[0;34m,\u001b[0m \u001b[0mnbytes\u001b[0m\u001b[0;34m,\u001b[0m \u001b[0mflags\u001b[0m\u001b[0;34m)\u001b[0m\u001b[0;34m\u001b[0m\u001b[0;34m\u001b[0m\u001b[0m\n",
            "\u001b[0;32m/usr/lib/python3.10/ssl.py\u001b[0m in \u001b[0;36mread\u001b[0;34m(self, len, buffer)\u001b[0m\n\u001b[1;32m   1157\u001b[0m         \u001b[0;32mtry\u001b[0m\u001b[0;34m:\u001b[0m\u001b[0;34m\u001b[0m\u001b[0;34m\u001b[0m\u001b[0m\n\u001b[1;32m   1158\u001b[0m             \u001b[0;32mif\u001b[0m \u001b[0mbuffer\u001b[0m \u001b[0;32mis\u001b[0m \u001b[0;32mnot\u001b[0m \u001b[0;32mNone\u001b[0m\u001b[0;34m:\u001b[0m\u001b[0;34m\u001b[0m\u001b[0;34m\u001b[0m\u001b[0m\n\u001b[0;32m-> 1159\u001b[0;31m                 \u001b[0;32mreturn\u001b[0m \u001b[0mself\u001b[0m\u001b[0;34m.\u001b[0m\u001b[0m_sslobj\u001b[0m\u001b[0;34m.\u001b[0m\u001b[0mread\u001b[0m\u001b[0;34m(\u001b[0m\u001b[0mlen\u001b[0m\u001b[0;34m,\u001b[0m \u001b[0mbuffer\u001b[0m\u001b[0;34m)\u001b[0m\u001b[0;34m\u001b[0m\u001b[0;34m\u001b[0m\u001b[0m\n\u001b[0m\u001b[1;32m   1160\u001b[0m             \u001b[0;32melse\u001b[0m\u001b[0;34m:\u001b[0m\u001b[0;34m\u001b[0m\u001b[0;34m\u001b[0m\u001b[0m\n\u001b[1;32m   1161\u001b[0m                 \u001b[0;32mreturn\u001b[0m \u001b[0mself\u001b[0m\u001b[0;34m.\u001b[0m\u001b[0m_sslobj\u001b[0m\u001b[0;34m.\u001b[0m\u001b[0mread\u001b[0m\u001b[0;34m(\u001b[0m\u001b[0mlen\u001b[0m\u001b[0;34m)\u001b[0m\u001b[0;34m\u001b[0m\u001b[0;34m\u001b[0m\u001b[0m\n",
            "\u001b[0;31mKeyboardInterrupt\u001b[0m: "
          ]
        }
      ]
    },
    {
      "cell_type": "markdown",
      "source": [
        "# save to file - google doc"
      ],
      "metadata": {
        "id": "dvzXQGNLeTcl"
      }
    },
    {
      "cell_type": "code",
      "source": [
        "from google.colab import auth\n",
        "auth.authenticate_user()\n",
        "\n",
        "from googleapiclient.discovery import build\n",
        "drive_service = build('drive', 'v3')\n",
        "\n",
        "from googleapiclient.http import MediaFileUpload\n",
        "\n",
        "from google.oauth2 import service_account"
      ],
      "metadata": {
        "id": "ofYIhPSex7Vp"
      },
      "execution_count": null,
      "outputs": []
    },
    {
      "cell_type": "code",
      "source": [
        "from googleapiclient.discovery import build\n",
        "\n",
        "def create_doc(title, content, folder_id=None):\n",
        "    docs_service = build('docs', 'v1')\n",
        "\n",
        "    document = docs_service.documents().create(body={'title': title}).execute()\n",
        "    doc_id = document.get('documentId')\n",
        "\n",
        "    requests = []\n",
        "    requests.append({\n",
        "        'insertText': {\n",
        "            'location': {\n",
        "                'index': 1,\n",
        "            },\n",
        "            'text': content\n",
        "        }\n",
        "    })\n",
        "\n",
        "    docs_service.documents().batchUpdate(documentId=doc_id, body={'requests': requests}).execute()\n",
        "\n",
        "    # 폴더 지정\n",
        "    if folder_id:\n",
        "      file_service = build('drive', 'v3')\n",
        "      file_service.files().update(fileId=doc_id, addParents=folder_id).execute()\n",
        "\n",
        "    print(f'Google Docs 파일이 생성되었습니다. ID: {doc_id}')\n",
        "    return doc_id\n",
        "\n",
        "\n",
        "text_content = file_output\n",
        "doc_title = get_doc_title()\n",
        "folder_id = '1xEcPyhD5K727rmK7ePL0vJneh118YVqK'  # Google Drive 폴더 ID를 넣어주세요\n",
        "\n",
        "document_id = create_doc(doc_title, text_content, folder_id)"
      ],
      "metadata": {
        "id": "W5fh6UoueTMu"
      },
      "execution_count": null,
      "outputs": []
    },
    {
      "cell_type": "markdown",
      "source": [
        "*# End of Project*"
      ],
      "metadata": {
        "id": "tDTxg3b2khGF"
      }
    },
    {
      "cell_type": "code",
      "source": [
        "text_urls = \"\"\"\n",
        "https://www.foxnews.com/live-news/israel-hamas-cease-fire-hostage-release-live-updates-1-16-2025\n",
        "https://www.foxnews.com/world/brazilian-court-denies-bolsonaros-request-travel-trumps-inauguration\n",
        "https://www.foxnews.com/world/american-college-rape-suspect-being-extradited-us\n",
        "\"\"\"\n",
        "# read string line by line and save to list\n",
        "def read_url_text(text_urls):\n",
        "  urls = text_urls.split(\"\\n\")\n",
        "\n",
        "  # remove null or empty element in the urls\n",
        "  urls = [url.strip() for url in urls if url.strip()]\n",
        "\n",
        "  urls = [url.strip() for url in urls]\n",
        "  return urls\n",
        "\n",
        "urls = read_url_text(text_urls)\n",
        "for url in urls:\n",
        "  print(f\"value = {url}\")\n",
        "\n",
        "\n",
        "\n"
      ],
      "metadata": {
        "id": "kkfN9dTkqK19"
      },
      "execution_count": null,
      "outputs": []
    },
    {
      "cell_type": "code",
      "source": [
        "text = \"\"\"\n",
        "Trump's UN ambassador pick Elise Stefanik could save taxpayers millions if taps Musk-Ramaswamy 'DOGE' | Fox News\n",
        "\n",
        "- ambassador(대사), pick(선택), taxpayers(납세자), millions(수백만), taps(활용하다), Musk(머스크), Ramaswamy(라마스와미), DOGE(Dogecoin, 암호화폐), save(절약하다)\n",
        "- 트럼프의 유엔 대사 후보인 엘리스 스테파닉이 머스크와 라마스와미의 'DOGE'를 활용한다면 납세자 수백만 달러를 절약할 수 있다는 기사입니다.\n",
        "\n",
        "\n",
        "The United Nations is often working against US interests, critics claim\n",
        "\n",
        "- critics(비평가들), claim(주장하다), interests(이익)\n",
        "- 비평가들은 유엔이 종종 미국의 이익에 반하는 활동을 하고 있다고 주장합니다.\n",
        "\n",
        "\n",
        "close      Video UN Watch exec director 'confident' in Elise Stefanik's ability to serve as UN ambassador  U.N. Watch Executive Director Hillel Neuer discusses the impact of the president-elect's appointments, the 'highjacking' of the U.N., the Biden administration's handling of the Israel war and Iran debating whether to make a deal with Trump. Join Fox News for access to this content Plus special access to select articles and other premium content with your account - free of charge.\n",
        "\n",
        "- executive director(상무이사), confident(자신감 있는), ability(능력), appointments(임명), highjacking(장악), handling(처리), debating(논의하다), access(접근)\n",
        "- UN 감시 단체의 상무이사인 Hillel Neuer는 차기 대통령의 임명, 유엔의 '장악', 바이든 행정부의 이스라엘 전쟁 처리, 그리고 이란이 트럼프와의 거래 여부를 논의하는 것에 대한 영향을 논의합니다. 폭스 뉴스에 가입하여 이 콘텐츠에 접근하십시오. 계정으로 특별히 선택된 기사 및 기타 프리미엄 콘텐츠에 무료로 접근할 수 있습니다.\n",
        "\n",
        "\n",
        "By entering your email and pushing continue, you are agreeing to Fox News' Terms of Use and Privacy Policy, which includes our Notice of Financial Incentive.\n",
        "\n",
        "- Terms of Use(이용 약관), Privacy Policy(개인정보 보호정책), Notice of Financial Incentive(재정적 인센티브 고지)\n",
        "- 이메일을 입력하고 계속을 누르면 폭스 뉴스의 이용 약관 및 개인정보 보호정책(재정적 인센티브 고지 포함)에 동의하는 것입니다.\n",
        "\n",
        "\n",
        "Please enter a valid email address.  By entering your email and pushing continue, you are agreeing to Fox News' Terms of Use and Privacy Policy, which includes our Notice of Financial Incentive.\n",
        "\n",
        "- valid(유효한), email address(이메일 주소)\n",
        "- 유효한 이메일 주소를 입력하십시오. 이메일을 입력하고 계속을 누르면 폭스 뉴스의 이용 약관 및 개인정보 보호정책(재정적 인센티브 고지 포함)에 동의하는 것입니다.\n",
        "\n",
        "\n",
        "Having trouble? Click here. Rep. Elise Stefanik, R-NY., will soon appear before the Senate Foreign Relations Committee to seek confirmation for her role in President-elect Donald Trump’s Cabinet as the U.S. ambassador to the United Nations.\n",
        "\n",
        "- confirmation(확정), role(역할), Cabinet(내각), ambassador(대사)\n",
        "- 문제가 있습니까? 여기를 클릭하십시오. 뉴욕주 출신의 엘리스 스테파닉 하원의원은 곧 상원 외교 관계 위원회에 출석하여 차기 대통령인 도널드 트럼프의 내각에서 미국 유엔 대사 역할에 대한 확정을 추구할 것입니다.\n",
        "\n",
        "\n",
        "Several former diplomats who spoke to Fox News Digital say that an immediate concern for an incoming U.N. ambassador should be reigning in U.S. expenditures at the world body.\n",
        "\n",
        "- diplomats(외교관), incoming(들어오는), expenditures(지출), reigning in(억제하다), world body(국제기구)\n",
        "- 폭스 뉴스 디지털과 이야기한 여러 전직 외교관들은 새롭게 유엔 대사가 되는 사람에게 있어 즉각적인 우려 사항은 세계 기구에서 미국의 지출을 억제하는 것이어야 한다고 말합니다.\n",
        "\"\"\"\n",
        "\n",
        "# print first 5 lines and last 5 lines of text\n",
        "def print_first_last_lines(text):\n",
        "  lines = text.split(\"\\n\")\n",
        "\n",
        "  for line in lines[:5]:\n",
        "    print(line)\n",
        "  print(\"........\")\n",
        "  for line in lines[-5:]:\n",
        "    print(line)\n",
        "\n",
        "print_first_last_lines(text)"
      ],
      "metadata": {
        "id": "qie6rhsa0BqO"
      },
      "execution_count": null,
      "outputs": []
    }
  ],
  "metadata": {
    "colab": {
      "collapsed_sections": [
        "Tce3stUlHN0L"
      ],
      "name": "aistudio_gemini_prompt_freeform_nofiles.ipynb",
      "provenance": []
    },
    "kernelspec": {
      "display_name": "Python 3",
      "name": "python3"
    }
  },
  "nbformat": 4,
  "nbformat_minor": 0
}