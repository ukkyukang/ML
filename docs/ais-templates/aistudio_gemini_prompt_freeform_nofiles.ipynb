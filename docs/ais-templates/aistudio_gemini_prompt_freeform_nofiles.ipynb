{
  "cells": [
    {
      "cell_type": "markdown",
      "metadata": {
        "id": "Tce3stUlHN0L"
      },
      "source": [
        "##### Target URLs"
      ]
    },
    {
      "cell_type": "code",
      "source": [
        "# !pip install -U -q \"google-genai\""
      ],
      "metadata": {
        "id": "ueK2u-VRrQ0H"
      },
      "execution_count": 1,
      "outputs": []
    },
    {
      "cell_type": "code",
      "source": [
        "# target urls\n",
        "text_urls = \"\"\"\n",
        "https://www.foxnews.com/politics/hirono-ripped-for-opening-confirmation-hearing-question-to-burgum-this-lady-has-issues\n",
        "https://www.foxnews.com/world/brazilian-court-denies-bolsonaros-request-travel-trumps-inauguration\n",
        "https://www.foxnews.com/world/american-college-rape-suspect-being-extradited-us\n",
        "\n",
        "https://www.foxnews.com/politics/bidens-meta-censorship-revelations-vindicated-alito-dissent-rfk-jr-case\n",
        "https://www.foxnews.com/politics/bondi-spars-schiff-testy-confirmation-hearing-you-were-censured\n",
        "https://www.foxnews.com/us/starship-upper-stage-lost-seventh-test-flight-debris-seen-spewing-sky\n",
        "\n",
        "https://www.breitbart.com/clips/2025/01/16/biden-i-ignored-summers-inflation-warnings-to-instill-some-confidence-in-people-deal-with-covid/\n",
        "https://www.breitbart.com/clips/2025/01/16/white-house-we-didnt-get-inflation-spike-with-first-trump-tariffs-but-25-different-from-17/\n",
        "https://www.breitbart.com/politics/2025/01/16/trump-treasury-pick-disputes-democrat-assertion-america-is-in-clean-energy-arms-race-with-china/\n",
        "\"\"\"\n"
      ],
      "metadata": {
        "id": "pxMJGPQP8UJ_"
      },
      "execution_count": 2,
      "outputs": []
    },
    {
      "cell_type": "markdown",
      "source": [
        "# helper"
      ],
      "metadata": {
        "id": "4Cg5x94wl9gW"
      }
    },
    {
      "cell_type": "code",
      "source": [
        "# get current_date_time\n",
        "from datetime import datetime\n",
        "\n",
        "# create document tile (date_time)\n",
        "def get_doc_title():\n",
        "  current_date_time = datetime.now()\n",
        "  # print(current_date_time)\n",
        "\n",
        "  # concat date_time to string\n",
        "  current_date_time_str = current_date_time.strftime(\"%Y%m%d_%H%M%S\")\n",
        "  # print(current_date_time_str)\n",
        "  return \"textbook_\" + current_date_time_str\n",
        "\n",
        "\n",
        "def print_first_last_lines(text):\n",
        "  lines = text.split(\"\\n\")\n",
        "\n",
        "  for line in lines[:5]:\n",
        "    print(line)\n",
        "  print(\"........\")\n",
        "  for line in lines[-5:]:\n",
        "    print(line)\n",
        "\n",
        "# create url list[str]\n",
        "def read_url_text(text_urls):\n",
        "  urls = text_urls.split(\"\\n\")\n",
        "\n",
        "  # remove null or empty element in the urls\n",
        "  urls = [url.strip() for url in urls if url.strip()]\n",
        "\n",
        "  # remove space\n",
        "  urls = [url.strip() for url in urls]\n",
        "  return urls\n",
        ""
      ],
      "metadata": {
        "id": "cjtqBO48l6Md"
      },
      "execution_count": 3,
      "outputs": []
    },
    {
      "cell_type": "markdown",
      "source": [
        "# Init GenAI"
      ],
      "metadata": {
        "id": "Jg3yFgjfFR7_"
      }
    },
    {
      "cell_type": "code",
      "source": [
        "from google import genai\n",
        "from google.genai import types\n",
        "import os\n",
        "from google.colab import userdata\n",
        "\n",
        "os.environ[\"GOOGLE_API_KEY\"] = userdata.get(\"GOOGLE_API_KEY\")\n",
        "\n",
        "# Explicitly configure the API key using genai.configure\n",
        "# genai.configure(api_key=userdata.get(\"GOOGLE_API_KEY\"))\n",
        "\n",
        "\n",
        "\n",
        "client = genai.Client(api_key=userdata.get(\"GOOGLE_API_KEY\"))\n",
        "\n",
        "\n"
      ],
      "metadata": {
        "id": "Hucszb1DrXJ4"
      },
      "execution_count": 4,
      "outputs": []
    },
    {
      "cell_type": "markdown",
      "source": [
        "# Contents generation\n"
      ],
      "metadata": {
        "id": "0nP_COQwxIJt"
      }
    },
    {
      "cell_type": "code",
      "source": [
        "def generate_ai_text(prompt, contents):\n",
        "\n",
        "  contents = prompt + \"\\n\\n\" + contents\n",
        "\n",
        "  response = client.models.generate_content(\n",
        "      model='gemini-1.5-flash', contents=contents\n",
        "  )\n",
        "  return response.text"
      ],
      "metadata": {
        "id": "uCs7Cgstw9Nq"
      },
      "execution_count": 5,
      "outputs": []
    },
    {
      "cell_type": "markdown",
      "source": [
        "# Fox news extraction function"
      ],
      "metadata": {
        "id": "taAm1ooqDwl_"
      }
    },
    {
      "cell_type": "code",
      "source": [
        "import requests\n",
        "from bs4 import BeautifulSoup\n",
        "\n",
        "def extract_fox_news(url):\n",
        "\n",
        "  print(url)\n",
        "\n",
        "  return_text = \"\"\n",
        "\n",
        "    # 웹 페이지 요청\n",
        "  response = requests.get(url, verify=True)\n",
        "\n",
        "  # 페이지의 HTML 콘텐츠 파싱\n",
        "  soup = BeautifulSoup(response.content, 'html.parser')\n",
        "\n",
        "  # Get title\n",
        "  title = soup.find_all('title')\n",
        "  # print(f\"title: {title[0].get_text()}\")\n",
        "  # print(f\"{title[0].get_text()}\")\n",
        "  # print(title)\n",
        "  return_text = title[0].get_text() + \"\\n\"\n",
        "\n",
        "  #Get sub_headline\n",
        "  sub_headline = soup.find_all(\"h2\", class_=\"sub-headline\")\n",
        "  # print(f\"sub headline : {sub_headline[0].get_text()}\")\n",
        "  # print(f\"{sub_headline[0].get_text()}\")\n",
        "  # print(f\"sub_headline = {sub_headline}\")\n",
        "  return_text += sub_headline[0].get_text() + \"\\n\"\n",
        "\n",
        "\n",
        "\n",
        "  # 예시: 헤드라인 뉴스 크롤링\n",
        "  headlines = soup.find_all('div', class_='article-body')\n",
        "\n",
        "  for headline in headlines:\n",
        "      # print_sentences_with_period(headline.get_text())\n",
        "      # print (headline.get_text())\n",
        "      return_text += headline.get_text() + \"\\n\"\n",
        "\n",
        "  return return_text"
      ],
      "metadata": {
        "id": "w7E0N049Dymp"
      },
      "execution_count": 6,
      "outputs": []
    },
    {
      "cell_type": "markdown",
      "source": [
        "# Beitbart news extraction function"
      ],
      "metadata": {
        "id": "yQb78j9JDJdK"
      }
    },
    {
      "cell_type": "code",
      "source": [
        "import requests\n",
        "from bs4 import BeautifulSoup\n",
        "\n",
        "def extract_breitbart_news(url):\n",
        "\n",
        "  print(url)\n",
        "\n",
        "  return_text = \"\"\n",
        "\n",
        "  # 웹 페이지 요청\n",
        "  response = requests.get(url, verify=True)\n",
        "\n",
        "  # 페이지의 HTML 콘텐츠 파싱\n",
        "  soup = BeautifulSoup(response.content, 'html.parser')\n",
        "\n",
        "  # Get title\n",
        "  title = soup.find_all('title')\n",
        "  # print(f\"{title[0].get_text()}\")\n",
        "\n",
        "  return_text = title[0].get_text() + \"\\n\"\n",
        "\n",
        "  #Get sub_headline\n",
        "  # sub_headline = soup.find_all(\"p\", class_=\"subheading\")\n",
        "  # print(f\"sub headline : {sub_headline[0].get_text()}\")\n",
        "  # for text in sub_headline:\n",
        "    # print(text.get_text())\n",
        "\n",
        "  # print(\"\\n\")\n",
        "  # print(f\"{sub_headline[0].get_text()}\")\n",
        "\n",
        "\n",
        "  # 예시: 헤드라인 뉴스 크롤링\n",
        "  headlines = soup.find_all('p')\n",
        "\n",
        "  for headline in headlines:\n",
        "      # print_sentences_with_period(headline.get_text())\n",
        "      # print (headline.get_text())\n",
        "      return_text += headline.get_text() + \"\\n\"\n",
        "\n",
        "  return return_text"
      ],
      "metadata": {
        "id": "B79FEHWDwKdW"
      },
      "execution_count": 7,
      "outputs": []
    },
    {
      "cell_type": "markdown",
      "source": [
        "# Main"
      ],
      "metadata": {
        "id": "5ZCkNffWDV20"
      }
    },
    {
      "cell_type": "code",
      "source": [
        "\n",
        "\n"
      ],
      "metadata": {
        "id": "7w9eiJD2rWAk"
      },
      "execution_count": 7,
      "outputs": []
    },
    {
      "cell_type": "code",
      "source": [
        "FOXNEWS = \"foxnews\"\n",
        "BREIBART = \"breitbart\"\n",
        "\n",
        "# output dictionary\n",
        "file_output = \"\"\n",
        "\n",
        "# get urls\n",
        "urls = read_url_text(text_urls)\n",
        "\n",
        "for url in urls:\n",
        "\n",
        "  #file output - copy url\n",
        "  file_output += url + \"\\n\\n\"\n",
        "\n",
        "  if FOXNEWS in url:\n",
        "    text = extract_fox_news(url)\n",
        "  elif BREIBART in url:\n",
        "    text = extract_breitbart_news(url)\n",
        "  else:\n",
        "    print(\"Error : New Link is not supported yet\")\n",
        "\n",
        "  query = \"\"\"\n",
        "     Devide the text into sentences.\n",
        "     For each sentences, do next action items print the output with below format:\n",
        "     - English sentence\n",
        "     - List up IELT’s B2/C1/C2 vocabulrary with korean translation, without separate the words with newline.\n",
        "     - sentence Korean translation\n",
        "    \"\"\"\n",
        "\n",
        "  query = \"\"\"\n",
        "  다음 내용에서 사용된 영어 중급 레벨 이상의 \"phrasal verbs\"을 찾아줘. 전치사 없이 동사만 사용된 경우는 제외해줘.\n",
        "\n",
        "  출력 형식은 다음과 같이 해줘.\n",
        "  - phrasal verb (한글뜻) / 문장속의 예문\n",
        "  \"\"\"\n",
        "\n",
        "  output = generate_ai_text(query,text)\n",
        "  print(output)\n",
        "\n",
        "  #file output - copy output\n",
        "  file_output += output + \"\\n\"\n",
        "\n",
        "  query = \"\"\"\n",
        "다음 영어 텍스트를 분석하여 문장 단위로 나누고, 각 문장에 대해 다음 정보를 각 변수에 담아줘.\n",
        "\n",
        "1. 영어 문장 (Original English Sentence) -> 변수 : original_english_sentence\n",
        "2. IELT의 B2/C1/C2 수준의 단어/표현과 한글 뜻 : 변수 : key_words_and_korean_definitions\n",
        "3. 번역 (Sentence translation in Korean): 변수 : sentence_translation_in_korean\n",
        "\n",
        "출력 형식은 다음과 같이 해주고, 변수 이름은 출력하지 말고 변수값만 출력.\n",
        "\n",
        "original_english_sentence\n",
        "\n",
        "- key_words_and_korean_definitions\n",
        "-  sentence_translation_in_korean\n",
        "\"\"\"\n",
        "\n",
        "  output = generate_ai_text(query,text)\n",
        "  # print(output)\n",
        "  print_first_last_lines(output)\n",
        "\n",
        "  #file output - copy output\n",
        "  file_output += output + \"\\n\"\n",
        "\n",
        "file_output += \"[End of Document]\""
      ],
      "metadata": {
        "colab": {
          "base_uri": "https://localhost:8080/"
        },
        "id": "J_rJuVA4DQSW",
        "outputId": "50047eaf-2855-4c0e-c86c-08ed0b443e70"
      },
      "execution_count": 8,
      "outputs": [
        {
          "output_type": "stream",
          "name": "stdout",
          "text": [
            "https://www.foxnews.com/politics/hirono-ripped-for-opening-confirmation-hearing-question-to-burgum-this-lady-has-issues\n",
            "- **claps back** (반박하다) / BONDI CLAPS BACK AT HIRONO AMID QUESTIONS ABOUT POLITICAL PROSECUTIONS: 'REFUSED TO MEET WITH ME'\n",
            "- **stands by** (지지하다, 변호하다) / DEM SENATOR WHO BASHED HEGSETH'S QUALIFICATIONS STANDS BY DOD SEC WHO OVERSAW BOTCHED AFGHAN WITHDRAWAL\n",
            "- **panned** (혹평하다) / ...was widely panned by conservatives on social media over the line of questioning.\n",
            "- **settles related to** (…와 관련된 합의를 하다) / \"Have you ever faced discipline or entered into a settlement related to this kind of conduct?\"\n",
            "- **sit on** (위원회 등에 참여하다) / ...before any of the committees on which I sit,...\n",
            "- **rips for** (~을 맹렬히 비난하다) / Hirono ripped for 'deranged' opening confirmation hearing question to Burgum: 'This lady has issues'\n",
            "- **asks for** (~을 요청하다) / Have you ever made unwanted requests for sexual favors\n",
            "\n",
            "\n",
            "\n",
            "Hirono ripped for 'deranged' opening confirmation hearing question to Burgum: 'This lady has issues' | Fox News\n",
            "\n",
            "- ripped: (비판하다, 혹평하다), deranged: (정신 이상의), confirmation hearing: (인준 청문회), issues: (문제점, 문제)\n",
            "- 하와이 상원의원 히로노가 버검의 인준 청문회에서 제기한 질문에 대해 \"정신 이상\"이라는 비판과 함께 \"저 여자에게 문제가 있다\"는 비난이 쏟아졌습니다. | 폭스 뉴스\n",
            "\n",
            "........\n",
            "Related Topics PoliticsSenate HearingsSenate\n",
            "\n",
            "-  \n",
            "- 관련 주제 정치 상원 청문회 상원\n",
            "\n",
            "https://www.foxnews.com/world/brazilian-court-denies-bolsonaros-request-travel-trumps-inauguration\n",
            "- **check out** (확인하다) / Check out what's clicking on Foxnews.com.\n",
            "- **stay in** (머무르다) / an alleged attempt to stay in office despite his electoral defeat\n",
            "- **set up** (획책하다) / whether he and top aides plotted to ignore the 2022 election results and stage an uprising to keep the defeated right-wing leader in power\n",
            "- **go after** (추적하다, 조사하다) /  several wide-ranging investigations including over an alleged attempt to stay in office\n",
            "- **give up** (포기하다) / Bolsonaro, under several wide-ranging investigations including over an alleged attempt to stay in office despite his electoral defeat, had his passport seized\n",
            "- **get away with** (모면하다) / Hundreds of Bolsonaro's supporters involved in Jan. 8, 2023 riots in capital Brasilia have left Brazil to avoid prosecution.\n",
            "- **stand trial** (재판을 받다) / Legal experts believe Bolsonaro could be charged and stand trial in the second half of 2025 at the Supreme Court for allegedly falsifying his COVID-19 vaccination status.  Analysts also say there’s a reasonable chance he stands trial before 2026 over allegedly embezzling jewels gifted by Saudi Arabian authorities.\n",
            "- **call out** (비난하다) / Bolsonaro frequently has called his personal foe\n",
            "- **figure out** (알아내다) /  Bolsonaro did not adequately prove to the court that he had been invited\n",
            "- **get over** (극복하다) / Trump \"overcame the judicial activism. I too will overcome it.\"\n",
            "- **put forward** (제시하다) / When de Moraes asked Bolsonaro’s lawyers for evidence of his invitation on Saturday, they forwarded an invitation letter \n",
            "- **carry out** (실행하다) /  whether he and top aides plotted to ignore the 2022 election results and stage an uprising to keep the defeated right-wing leader in power\n",
            "- **set out** (시작하다, 출발하다) / Bolsonaro, an outspoken admirer of Trump, said on his social media channels on Jan. 8 that he was \"very happy with this invitation.\"\n",
            "- **leave out** (제외하다) /  Bolsonaro's private interest in the trip did not outweigh the public interest in prohibiting him from traveling abroad.\n",
            "\n",
            "\n",
            "Brazilian court denies Bolsonaro’s request to travel to Trump’s inauguration | Fox News\n",
            "\n",
            "- deny(거부하다), request(요청), inauguration(취임식), Bolsonaro(볼소나로), Trump(트럼프)\n",
            "- 브라질 법원은 볼소나로의 트럼프 취임식 참석을 위한 여행 요청을 거부했다 | Fox News\n",
            "\n",
            "........\n",
            "Related Topics BrazilAssociated PressJair BolsonaroWorld PoliticsDonald Trump\n",
            "\n",
            "- related topics(관련 주제)\n",
            "- 관련 주제: 브라질, AP통신, 자이르 볼소나로, 세계 정치, 도널드 트럼프\n",
            "\n",
            "https://www.foxnews.com/world/american-college-rape-suspect-being-extradited-us\n",
            "- hand over (넘겨주다) /  Ian Cleary, who was wanted by the U.S. Marshals Service, was handed over to American authorities today at Charles de Gaulle Airport in Paris, France,\n",
            "- go on (계속하다) / Cleary left Gettysburg College and went on to graduate from Santa Clara University, worked for Tesla, then moved to France for several years,\n",
            "- stand up (직면하다) /  to see that her alleged perpetrator will finally stand and face criminal charges in a Pennsylvania courtroom is a great relief for her and her family,\n",
            "- check out (확인하다) / Check out what's clicking on Foxnews.com.\n",
            "- work out (잘 해결되다) /The justice system can work when survivors persist with the help and support of family, friends, advocates, and attorneys,\n",
            "- hand over (넘겨주다) / Ian Cleary, who was wanted by the U.S. Marshals Service, was handed over to American authorities today at Charles de Gaulle Airport in Paris, France,\n",
            "- set up (설치하다) /  for placing hidden cameras in guest rooms\n",
            "\n",
            "\n",
            "\n",
            "American college rape suspect is being extradited to the US | Fox News\n",
            "\n",
            "- extradition (범죄인 인도): the process of returning a person accused of a crime to the country where the crime was committed;  suspect (용의자): a person thought to be guilty of a crime;  allegedly (주장하는 바에 따르면): supposedly;  rape (강간): sexual assault\n",
            "- 미국 대학 강간 용의자가 미국으로 범죄인 인도되고 있다 | 폭스 뉴스\n",
            "\n",
            "........\n",
            "\n",
            "- This sentence introduces contributors and the author.\n",
            "- 폭스 뉴스의 오드리 콘클린과 AP 통신이 이 기사에 기여했습니다. 그렉 노먼은 폭스 뉴스 디지털의 기자입니다.\n",
            "\n",
            "\n",
            "https://www.foxnews.com/politics/bidens-meta-censorship-revelations-vindicated-alito-dissent-rfk-jr-case\n",
            "- **take down** (내리다) /  when it took down a COVID-19 video posted by RFK Jr\n",
            "- **crack down on** (단속하다) / in its attempts to crack down on misinformation\n",
            "- **go too far** (너무 멀리 가다, 과하다) / that they had \"gone too far\" and allowed for too much political bias\n",
            "- **get back to** (다시 ~로 돌아가다) /  \"So we are going to get back to our roots\n",
            "- **take up** (다루다, 처리하다) / The Supreme Court majority declined to take up the case without explanation\n",
            "- **ease certain content restrictions** (특정 콘텐츠 제한을 완화하다) / ease certain content restrictions was praised by some conservative activists\n",
            "\n",
            "\n",
            "\n",
            "Biden’s META ‘censorship’ revelations ‘vindicated’ Alito’s dissent in Kennedy case | Fox News\n",
            "\n",
            "- vindicate: 무죄를 입증하다, 정당화하다; dissent: 반대 의견; revelation: 폭로\n",
            "- 바이든의 메타 '검열' 폭로가 케네디 사건에서 알리토 판사의 반대 의견을 정당화했다 | 폭스 뉴스\n",
            "\n",
            "........\n",
            "Breanne Deppisch is a politics reporter for Fox News Digital covering the 2024 election and other national news. Related Topics PoliticsTechnologySupreme CourtBig Tech Backlash\n",
            "\n",
            "- 이 문장은 기자 정보와 관련 주제입니다. 번역하지 않겠습니다.\n",
            "\n",
            "\n",
            "https://www.foxnews.com/politics/bondi-spars-schiff-testy-confirmation-hearing-you-were-censured\n",
            "- sparred (격렬하게 논쟁하다) / Pam Bondi, President-elect Trump's pick to lead the DOJ, **sparred** with Sen. Adam Schiff, D-Calif., during the Senate Judiciary Committee hearing.\n",
            "- clashed (충돌하다) / Bondi **clashed** with multiple Senate Dems during Wednesday's confirmation hearing\n",
            "- turned the tables on (주도권을 빼앗다) / She then **turned the tables on** Schiff, noting the crime rate in California.\n",
            "- shot back (반박하다) / Schiff **shot back**, asking her if she would advise against blanket pardons by President-elect Trump\n",
            "- look into (조사하다) /  (Although not explicitly written as a phrasal verb in the text, the context strongly implies that Schiff is suggesting Bondi should **look into** Liz Cheney.)\n",
            "- play politics (정치적 행위를 하다) / Bondi accused Schiff of \"**playing politics**\" and of leaking former Rep. Devin Nunes' memo.\n",
            "- make up (꾸며내다) / (Implied meaning, Bondi accuses Schiff of **making up** claims to attack her. The phrase is not directly in the text but heavily implied by the context).\n",
            "-  lead to (이어지다, 야기하다) /  (The phrase \"The incident was one of a number of sharp exchanges...\" implies that the actions of Schiff  **led to** a sharp exchange with Bondi.)\n",
            "-  pick on (괴롭히다, 트집잡다) / (Implied meaning, Schiff is **picking on** Bondi by aggressively questioning her. Not explicitly written but implied).\n",
            "-  look at (검토하다) / Schiff said that Bondi's answers suggested she doesn’t have the independence to say \"no\" to the president. He then asked her if she would tell Trump he lost the 2020 election.  (Implied:  Schiff is suggesting Bondi needs to **look at** this situation objectively.)\n",
            "- get away with (처벌받지 않고 넘어가다) / (Implied meaning: Schiff appears to be suggesting that Trump might **get away with** wrongdoing if Bondi doesn't act independently. The phrase is not directly in the text but strongly implied by the context.)\n",
            "- focus on (집중하다) / \"That's what I want to **focus on**, senator.\"\n",
            "\n",
            "\n",
            "참고: 일부 phrasal verb는 문맥상 추론하여 추가했습니다.  단어 자체가 문장에 명시적으로 쓰이지는 않았지만, 그 의미가 문맥상 명확하게 드러나는 경우입니다.\n",
            "\n",
            "Bondi spars with Schiff at testy confirmation hearing: 'You were censured' | Fox News\n",
            "\n",
            "- spars: 말다툼하다, 논쟁하다; testy: 까다로운, 과민한; censured: 비난받은, 견책받은\n",
            "- 본디는 까다로운 인준 청문회에서 쉬프와 말다툼을 벌였고, \"당신은 견책받았습니다\"라고 말했다 | 폭스 뉴스\n",
            "\n",
            "........\n",
            "\n",
            "Related Topics CabinetSenateSenate Democrats\n",
            "\n",
            "- Cabinet: 내각; Senate: 상원; Senate Democrats: 상원 민주당 의원들\n",
            "- 관련 주제: 내각, 상원, 상원 민주당 의원들\n",
            "https://www.foxnews.com/us/starship-upper-stage-lost-seventh-test-flight-debris-seen-spewing-sky\n",
            "- shut down (정지하다) / The spacecraft's six engines appeared to shut down one by one, with contact lost just 8 1/2 minutes into the flight, SpaceX said.\n",
            "- lift off (발사하다) / The vehicle lifted off from SpaceX’s Starbase test site at Boca Chica, Texas.\n",
            "- head back (돌아가다) / The booster then separated about two minutes and 45 seconds after liftoff and headed back towards Starbase, Space News reported.\n",
            "- come down (착륙하다) / \"It was great to see a booster come down, but we are obviously bummed out about ship,\" said SpaceX spokesman Dan Huot.\n",
            "- move on (넘어가다) / Elon Musk said he plans to launch actual Starlinks on Starships before moving on to other satellites and, eventually, crews.\n",
            "- bring us closer (가까이 하다) / \"That’s why these tests are so important—each one bringing us closer on our path to the Moon and onward to Mars through.\"\n",
            "- look forward to (기대하다) /  (This phrasal verb is not explicitly present, but the sentence \"In a subsequent post, he said that \"improved versions of the ship & booster already waiting for launch.\" implies a sense of looking forward to future launches.)\n",
            "\n",
            "\n",
            "\n",
            "Starship upper stage lost on seventh test flight | Fox News\n",
            "\n",
            "- upper stage: 상단부, lost: 손실된, seventh: 일곱 번째, test flight: 시험 비행\n",
            "- 일곱 번째 시험 비행에서 스타십 상단부가 손실되었습니다. | 폭스 뉴스\n",
            "\n",
            "........\n",
            "The Associated Press contributed to this report.\n",
            "\n",
            "- contributed: 기여했다, report: 보도\n",
            "- AP 통신이 이 보도에 기여했습니다.\n",
            "\n",
            "https://www.breitbart.com/clips/2025/01/16/biden-i-ignored-summers-inflation-warnings-to-instill-some-confidence-in-people-deal-with-covid/\n",
            "- **look at** (고려하다) /  \"I looked at the practical need for us to instill some confidence in the American people that we can grow this economy.\"\n",
            "- **bring down** (요약하다, 핵심으로 집중시키다) / \"I want to bring this down to something about your presidential decision-making...\"\n",
            "- **go ahead** (계속하다, 진행하다) / \"...how do you then decide to make that decision to go ahead?\"\n",
            "- **take care of** (돌보다, 처리하다) / \"Well, first of all, it was [rational] to spend the money to go take care of that.\"\n",
            "\n",
            "\n",
            "\n",
            "Biden: I Ignored Summers' Inflation Warnings 'to Instill Some Confidence' in People, Deal with COVID\n",
            "\n",
            "- instill (v.): (자신감, 희망 등을) 불어넣다, 주입하다; confidence (n.): 자신감;  COVID (n.): 코로나 바이러스 감염병(COVID-19)\n",
            "- 바이든: 저는 사람들에게 어느 정도의 자신감을 불어넣고 코로나19에 대처하기 위해 서머스의 인플레이션 경고를 무시했습니다.\n",
            "\n",
            "........\n",
            "Copyright © 2025 Breitbart\n",
            "\n",
            "- Copyright (n.): 저작권; Breitbart (n.): 브레이트바트 뉴스\n",
            "- 저작권 © 2025 브레이트바트 뉴스\n",
            "\n",
            "https://www.breitbart.com/clips/2025/01/16/white-house-we-didnt-get-inflation-spike-with-first-trump-tariffs-but-25-different-from-17/\n",
            "- look at (살펴보다) /  \"...if you do look at the impact of, say, sweeping tariffs...\"\n",
            "- add in (추가하다) / \"...and then, if you add in compromising Fed independence, you’ve got a real problem on your hands.\"\n",
            "- go there (그렇게 하다) / \"I don’t think they want to go there.”\n",
            "- look at (살펴보다) / \"There, you’re looking at an economy where you were missing inflation...\"\n",
            "- make its way (나아가다) / \"...inflation is making its bumpy way path back to target...\"\n",
            "- go the other way (반대 방향으로 가다) / \"...yields are, if anything, going the other way.\"\n",
            "\n",
            "\n",
            "\n",
            "White House: We Didn't Get Inflation Spike with First Trump Tariffs, But '25 Different from '17\n",
            "\n",
            "- spike: 급증, 급등 / tariffs: 관세 / administration: 행정부\n",
            "- 백악관: 첫 트럼프 관세로 인플레이션 급증은 없었지만, 2025년은 2017년과 다릅니다.\n",
            "\n",
            "........\n",
            "Copyright © 2025 Breitbart\n",
            "\n",
            "- Copyright: 저작권\n",
            "- 저작권 © 2025 Breitbart\n",
            "\n",
            "https://www.breitbart.com/politics/2025/01/16/trump-treasury-pick-disputes-democrat-assertion-america-is-in-clean-energy-arms-race-with-china/\n",
            "- **build up** (쌓아 올리다, 증가시키다) / China is projected to build 100 coal fired plants this year.\n",
            "- **market as** ( ~로 시장에 내놓다, ~라고 홍보하다) / a bill that was first marketed as a measure to reduce spending\n",
            "- **reverse it** (반전시키다, 되돌리다) / Now, there is a big effort in the Trump administration to reverse it.\n",
            "- **proceed to** (~하기 시작하다, ~로 나아가다) / The Oregon Democrat proceeded to ask if Bessent would be a party to unraveling the $700 billion climate change bill.\n",
            "- **frame this** (이것을 구성하다, 이것을 설명하다) / Sen. Wyden, just so we can frame this for everyone in the room\n",
            "- **unraveling** (풀다, 해체하다) /  Bessent would be a party to unraveling the $700 billion climate change bill.\n",
            "- **score** (점수를 매기다, 평가하다) / the IRA, as scored by the CBO\n",
            "- **find** (발견하다, 알아내다) / An updated Penn Budget Model analysis in August 2022 found that the bill would only reduce inflation by 0.1 percent over five years. The Congressional Budget Office (CBO) found similar results.\n",
            "\n",
            "\n",
            "Trump Treasury Pick Disputes Dem Argument U.S. Is in Clean Energy 'Arms Race'\n",
            "\n",
            "- Pick: 선택, 지명; Disputes: 논쟁하다; Dem: 민주당; Argument: 주장; Clean Energy: 청정 에너지; Arms Race: 군비 경쟁\n",
            "- 트럼프의 재무장관 지명자가 미국이 청정에너지 '군비경쟁'에 놓여있다는 민주당의 주장에 반박했다.\n",
            "\n",
            "........\n",
            "Copyright © 2025 Breitbart\n",
            "\n",
            "- Copyright: 저작권\n",
            "- 저작권 © 2025 브레이트바트\n",
            "\n"
          ]
        }
      ]
    },
    {
      "cell_type": "markdown",
      "source": [
        "# save to file - google doc"
      ],
      "metadata": {
        "id": "dvzXQGNLeTcl"
      }
    },
    {
      "cell_type": "code",
      "source": [
        "from google.colab import auth\n",
        "# auth.authenticate_user()\n",
        "\n",
        "from googleapiclient.discovery import build\n",
        "drive_service = build('drive', 'v3')\n",
        "\n",
        "from googleapiclient.http import MediaFileUpload\n",
        "\n",
        "from google.oauth2 import service_account"
      ],
      "metadata": {
        "id": "ofYIhPSex7Vp"
      },
      "execution_count": 9,
      "outputs": []
    },
    {
      "cell_type": "code",
      "source": [
        "from googleapiclient.discovery import build\n",
        "\n",
        "def create_doc(title, content, folder_id=None):\n",
        "    docs_service = build('docs', 'v1')\n",
        "\n",
        "    document = docs_service.documents().create(body={'title': title}).execute()\n",
        "    doc_id = document.get('documentId')\n",
        "\n",
        "    requests = []\n",
        "    requests.append({\n",
        "        'insertText': {\n",
        "            'location': {\n",
        "                'index': 1,\n",
        "            },\n",
        "            'text': content\n",
        "        }\n",
        "    })\n",
        "\n",
        "    docs_service.documents().batchUpdate(documentId=doc_id, body={'requests': requests}).execute()\n",
        "\n",
        "    # 폴더 지정\n",
        "    if folder_id:\n",
        "      file_service = build('drive', 'v3')\n",
        "      file_service.files().update(fileId=doc_id, addParents=folder_id).execute()\n",
        "\n",
        "    print(f'Google Docs 파일이 생성되었습니다. ID: {doc_id}')\n",
        "    return doc_id\n",
        "\n",
        "\n",
        "text_content = file_output\n",
        "doc_title = get_doc_title()\n",
        "folder_id = '1xEcPyhD5K727rmK7ePL0vJneh118YVqK'  # Google Drive 폴더 ID를 넣어주세요\n",
        "\n",
        "document_id = create_doc(doc_title, text_content, folder_id)"
      ],
      "metadata": {
        "colab": {
          "base_uri": "https://localhost:8080/"
        },
        "id": "W5fh6UoueTMu",
        "outputId": "bf6e897c-3a2e-46a0-86e5-941570b329b8"
      },
      "execution_count": 10,
      "outputs": [
        {
          "output_type": "stream",
          "name": "stdout",
          "text": [
            "Google Docs 파일이 생성되었습니다. ID: 1Pl4ynqj7_QdBuoQQO8aBqDOw5tBqV-UhFeDjSRIcP1s\n"
          ]
        }
      ]
    },
    {
      "cell_type": "markdown",
      "source": [
        "*# End of Project*"
      ],
      "metadata": {
        "id": "tDTxg3b2khGF"
      }
    },
    {
      "cell_type": "code",
      "source": [
        "text_urls = \"\"\"\n",
        "https://www.foxnews.com/live-news/israel-hamas-cease-fire-hostage-release-live-updates-1-16-2025\n",
        "https://www.foxnews.com/world/brazilian-court-denies-bolsonaros-request-travel-trumps-inauguration\n",
        "https://www.foxnews.com/world/american-college-rape-suspect-being-extradited-us\n",
        "\"\"\"\n",
        "# read string line by line and save to list\n",
        "def read_url_text(text_urls):\n",
        "  urls = text_urls.split(\"\\n\")\n",
        "\n",
        "  # remove null or empty element in the urls\n",
        "  urls = [url.strip() for url in urls if url.strip()]\n",
        "\n",
        "  urls = [url.strip() for url in urls]\n",
        "  return urls\n",
        "\n",
        "urls = read_url_text(text_urls)\n",
        "for url in urls:\n",
        "  print(f\"value = {url}\")\n",
        "\n",
        "\n",
        "\n"
      ],
      "metadata": {
        "id": "kkfN9dTkqK19",
        "outputId": "b3618c71-e5ed-47c0-eab4-80bb0a6e9123",
        "colab": {
          "base_uri": "https://localhost:8080/"
        }
      },
      "execution_count": 11,
      "outputs": [
        {
          "output_type": "stream",
          "name": "stdout",
          "text": [
            "value = https://www.foxnews.com/live-news/israel-hamas-cease-fire-hostage-release-live-updates-1-16-2025\n",
            "value = https://www.foxnews.com/world/brazilian-court-denies-bolsonaros-request-travel-trumps-inauguration\n",
            "value = https://www.foxnews.com/world/american-college-rape-suspect-being-extradited-us\n"
          ]
        }
      ]
    },
    {
      "cell_type": "code",
      "source": [
        "text = \"\"\"\n",
        "Trump's UN ambassador pick Elise Stefanik could save taxpayers millions if taps Musk-Ramaswamy 'DOGE' | Fox News\n",
        "\n",
        "- ambassador(대사), pick(선택), taxpayers(납세자), millions(수백만), taps(활용하다), Musk(머스크), Ramaswamy(라마스와미), DOGE(Dogecoin, 암호화폐), save(절약하다)\n",
        "- 트럼프의 유엔 대사 후보인 엘리스 스테파닉이 머스크와 라마스와미의 'DOGE'를 활용한다면 납세자 수백만 달러를 절약할 수 있다는 기사입니다.\n",
        "\n",
        "\n",
        "The United Nations is often working against US interests, critics claim\n",
        "\n",
        "- critics(비평가들), claim(주장하다), interests(이익)\n",
        "- 비평가들은 유엔이 종종 미국의 이익에 반하는 활동을 하고 있다고 주장합니다.\n",
        "\n",
        "\n",
        "close      Video UN Watch exec director 'confident' in Elise Stefanik's ability to serve as UN ambassador  U.N. Watch Executive Director Hillel Neuer discusses the impact of the president-elect's appointments, the 'highjacking' of the U.N., the Biden administration's handling of the Israel war and Iran debating whether to make a deal with Trump. Join Fox News for access to this content Plus special access to select articles and other premium content with your account - free of charge.\n",
        "\n",
        "- executive director(상무이사), confident(자신감 있는), ability(능력), appointments(임명), highjacking(장악), handling(처리), debating(논의하다), access(접근)\n",
        "- UN 감시 단체의 상무이사인 Hillel Neuer는 차기 대통령의 임명, 유엔의 '장악', 바이든 행정부의 이스라엘 전쟁 처리, 그리고 이란이 트럼프와의 거래 여부를 논의하는 것에 대한 영향을 논의합니다. 폭스 뉴스에 가입하여 이 콘텐츠에 접근하십시오. 계정으로 특별히 선택된 기사 및 기타 프리미엄 콘텐츠에 무료로 접근할 수 있습니다.\n",
        "\n",
        "\n",
        "By entering your email and pushing continue, you are agreeing to Fox News' Terms of Use and Privacy Policy, which includes our Notice of Financial Incentive.\n",
        "\n",
        "- Terms of Use(이용 약관), Privacy Policy(개인정보 보호정책), Notice of Financial Incentive(재정적 인센티브 고지)\n",
        "- 이메일을 입력하고 계속을 누르면 폭스 뉴스의 이용 약관 및 개인정보 보호정책(재정적 인센티브 고지 포함)에 동의하는 것입니다.\n",
        "\n",
        "\n",
        "Please enter a valid email address.  By entering your email and pushing continue, you are agreeing to Fox News' Terms of Use and Privacy Policy, which includes our Notice of Financial Incentive.\n",
        "\n",
        "- valid(유효한), email address(이메일 주소)\n",
        "- 유효한 이메일 주소를 입력하십시오. 이메일을 입력하고 계속을 누르면 폭스 뉴스의 이용 약관 및 개인정보 보호정책(재정적 인센티브 고지 포함)에 동의하는 것입니다.\n",
        "\n",
        "\n",
        "Having trouble? Click here. Rep. Elise Stefanik, R-NY., will soon appear before the Senate Foreign Relations Committee to seek confirmation for her role in President-elect Donald Trump’s Cabinet as the U.S. ambassador to the United Nations.\n",
        "\n",
        "- confirmation(확정), role(역할), Cabinet(내각), ambassador(대사)\n",
        "- 문제가 있습니까? 여기를 클릭하십시오. 뉴욕주 출신의 엘리스 스테파닉 하원의원은 곧 상원 외교 관계 위원회에 출석하여 차기 대통령인 도널드 트럼프의 내각에서 미국 유엔 대사 역할에 대한 확정을 추구할 것입니다.\n",
        "\n",
        "\n",
        "Several former diplomats who spoke to Fox News Digital say that an immediate concern for an incoming U.N. ambassador should be reigning in U.S. expenditures at the world body.\n",
        "\n",
        "- diplomats(외교관), incoming(들어오는), expenditures(지출), reigning in(억제하다), world body(국제기구)\n",
        "- 폭스 뉴스 디지털과 이야기한 여러 전직 외교관들은 새롭게 유엔 대사가 되는 사람에게 있어 즉각적인 우려 사항은 세계 기구에서 미국의 지출을 억제하는 것이어야 한다고 말합니다.\n",
        "\"\"\"\n",
        "\n",
        "# print first 5 lines and last 5 lines of text\n",
        "def print_first_last_lines(text):\n",
        "  lines = text.split(\"\\n\")\n",
        "\n",
        "  for line in lines[:5]:\n",
        "    print(line)\n",
        "  print(\"........\")\n",
        "  for line in lines[-5:]:\n",
        "    print(line)\n",
        "\n",
        "print_first_last_lines(text)"
      ],
      "metadata": {
        "id": "qie6rhsa0BqO",
        "outputId": "346cd5bb-b4bc-4036-e815-9b11cf3ec948",
        "colab": {
          "base_uri": "https://localhost:8080/"
        }
      },
      "execution_count": 12,
      "outputs": [
        {
          "output_type": "stream",
          "name": "stdout",
          "text": [
            "\n",
            "Trump's UN ambassador pick Elise Stefanik could save taxpayers millions if taps Musk-Ramaswamy 'DOGE' | Fox News\n",
            "\n",
            "- ambassador(대사), pick(선택), taxpayers(납세자), millions(수백만), taps(활용하다), Musk(머스크), Ramaswamy(라마스와미), DOGE(Dogecoin, 암호화폐), save(절약하다)\n",
            "- 트럼프의 유엔 대사 후보인 엘리스 스테파닉이 머스크와 라마스와미의 'DOGE'를 활용한다면 납세자 수백만 달러를 절약할 수 있다는 기사입니다.\n",
            "........\n",
            "Several former diplomats who spoke to Fox News Digital say that an immediate concern for an incoming U.N. ambassador should be reigning in U.S. expenditures at the world body.\n",
            "\n",
            "- diplomats(외교관), incoming(들어오는), expenditures(지출), reigning in(억제하다), world body(국제기구)\n",
            "- 폭스 뉴스 디지털과 이야기한 여러 전직 외교관들은 새롭게 유엔 대사가 되는 사람에게 있어 즉각적인 우려 사항은 세계 기구에서 미국의 지출을 억제하는 것이어야 한다고 말합니다.\n",
            "\n"
          ]
        }
      ]
    }
  ],
  "metadata": {
    "colab": {
      "collapsed_sections": [
        "Tce3stUlHN0L"
      ],
      "name": "aistudio_gemini_prompt_freeform_nofiles.ipynb",
      "provenance": []
    },
    "kernelspec": {
      "display_name": "Python 3",
      "name": "python3"
    }
  },
  "nbformat": 4,
  "nbformat_minor": 0
}